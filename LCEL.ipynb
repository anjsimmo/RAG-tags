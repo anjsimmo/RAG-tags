{
 "cells": [
  {
   "cell_type": "code",
   "execution_count": null,
   "id": "adb1d5c4",
   "metadata": {},
   "outputs": [],
   "source": []
  },
  {
   "cell_type": "code",
   "execution_count": 1,
   "id": "614a6703",
   "metadata": {},
   "outputs": [
    {
     "name": "stdout",
     "output_type": "stream",
     "text": [
      "Requirement already satisfied: python-dotenv in /Users/anupamchaudhauri/opt/miniconda3/lib/python3.9/site-packages (1.0.1)\n",
      "Note: you may need to restart the kernel to use updated packages.\n"
     ]
    }
   ],
   "source": [
    "pip install python-dotenv\n"
   ]
  },
  {
   "cell_type": "code",
   "execution_count": 17,
   "id": "def9e5a5",
   "metadata": {},
   "outputs": [],
   "source": [
    "\n",
    "#make your own .env file and then use the following\n",
    "\n",
    "import os\n",
    "from dotenv import load_dotenv\n",
    "\n",
    "load_dotenv(dotenv_path='my.env')\n",
    "\n",
    "\n",
    "assert os.getenv(\"OPENAI_API_KEY\"), \"Set OPENAI_API_KEY in my.env file\"\n",
    "\n",
    "# Your code using the environment variables\n",
    "langchain_tracing_v2 = os.getenv(\"LANGCHAIN_TRACING_V2\")\n",
    "langchain_endpoint = os.getenv(\"LANGCHAIN_ENDPOINT\")\n",
    "langchain_api_key = os.getenv(\"LANGCHAIN_API_KEY\")\n",
    "openai_api_key = os.getenv(\"OPENAI_API_KEY\")\n",
    "\n"
   ]
  },
  {
   "cell_type": "code",
   "execution_count": 3,
   "id": "68c011ba",
   "metadata": {},
   "outputs": [
    {
     "name": "stdout",
     "output_type": "stream",
     "text": [
      "Requirement already satisfied: langchain_community in /Users/anupamchaudhauri/opt/miniconda3/lib/python3.9/site-packages (0.2.7)\n",
      "Requirement already satisfied: tiktoken in /Users/anupamchaudhauri/opt/miniconda3/lib/python3.9/site-packages (0.7.0)\n",
      "Requirement already satisfied: langchain-openai in /Users/anupamchaudhauri/opt/miniconda3/lib/python3.9/site-packages (0.1.16)\n",
      "Requirement already satisfied: langchainhub in /Users/anupamchaudhauri/opt/miniconda3/lib/python3.9/site-packages (0.1.16)\n",
      "Requirement already satisfied: chromadb in /Users/anupamchaudhauri/opt/miniconda3/lib/python3.9/site-packages (0.5.0)\n",
      "Requirement already satisfied: langchain in /Users/anupamchaudhauri/opt/miniconda3/lib/python3.9/site-packages (0.2.8)\n",
      "Requirement already satisfied: requests<3,>=2 in /Users/anupamchaudhauri/opt/miniconda3/lib/python3.9/site-packages (from langchain_community) (2.31.0)\n",
      "Requirement already satisfied: aiohttp<4.0.0,>=3.8.3 in /Users/anupamchaudhauri/opt/miniconda3/lib/python3.9/site-packages (from langchain_community) (3.9.3)\n",
      "Requirement already satisfied: numpy<2,>=1 in /Users/anupamchaudhauri/opt/miniconda3/lib/python3.9/site-packages (from langchain_community) (1.26.4)\n",
      "Requirement already satisfied: dataclasses-json<0.7,>=0.5.7 in /Users/anupamchaudhauri/opt/miniconda3/lib/python3.9/site-packages (from langchain_community) (0.6.6)\n",
      "Requirement already satisfied: langsmith<0.2.0,>=0.1.0 in /Users/anupamchaudhauri/opt/miniconda3/lib/python3.9/site-packages (from langchain_community) (0.1.84)\n",
      "Requirement already satisfied: SQLAlchemy<3,>=1.4 in /Users/anupamchaudhauri/opt/miniconda3/lib/python3.9/site-packages (from langchain_community) (2.0.30)\n",
      "Requirement already satisfied: langchain-core<0.3.0,>=0.2.12 in /Users/anupamchaudhauri/opt/miniconda3/lib/python3.9/site-packages (from langchain_community) (0.2.19)\n",
      "Requirement already satisfied: PyYAML>=5.3 in /Users/anupamchaudhauri/opt/miniconda3/lib/python3.9/site-packages (from langchain_community) (6.0.1)\n",
      "Requirement already satisfied: tenacity!=8.4.0,<9.0.0,>=8.1.0 in /Users/anupamchaudhauri/opt/miniconda3/lib/python3.9/site-packages (from langchain_community) (8.3.0)\n",
      "Requirement already satisfied: regex>=2022.1.18 in /Users/anupamchaudhauri/opt/miniconda3/lib/python3.9/site-packages (from tiktoken) (2024.5.15)\n",
      "Requirement already satisfied: openai<2.0.0,>=1.32.0 in /Users/anupamchaudhauri/opt/miniconda3/lib/python3.9/site-packages (from langchain-openai) (1.35.10)\n",
      "Requirement already satisfied: types-requests<3.0.0.0,>=2.31.0.2 in /Users/anupamchaudhauri/opt/miniconda3/lib/python3.9/site-packages (from langchainhub) (2.32.0.20240523)\n",
      "Requirement already satisfied: overrides>=7.3.1 in /Users/anupamchaudhauri/opt/miniconda3/lib/python3.9/site-packages (from chromadb) (7.7.0)\n",
      "Requirement already satisfied: opentelemetry-instrumentation-fastapi>=0.41b0 in /Users/anupamchaudhauri/opt/miniconda3/lib/python3.9/site-packages (from chromadb) (0.45b0)\n",
      "Requirement already satisfied: fastapi>=0.95.2 in /Users/anupamchaudhauri/opt/miniconda3/lib/python3.9/site-packages (from chromadb) (0.111.0)\n",
      "Requirement already satisfied: posthog>=2.4.0 in /Users/anupamchaudhauri/opt/miniconda3/lib/python3.9/site-packages (from chromadb) (3.5.0)\n",
      "Requirement already satisfied: mmh3>=4.0.1 in /Users/anupamchaudhauri/opt/miniconda3/lib/python3.9/site-packages (from chromadb) (4.1.0)\n",
      "Requirement already satisfied: opentelemetry-api>=1.2.0 in /Users/anupamchaudhauri/opt/miniconda3/lib/python3.9/site-packages (from chromadb) (1.24.0)\n",
      "Requirement already satisfied: opentelemetry-exporter-otlp-proto-grpc>=1.2.0 in /Users/anupamchaudhauri/opt/miniconda3/lib/python3.9/site-packages (from chromadb) (1.24.0)\n",
      "Requirement already satisfied: typing-extensions>=4.5.0 in /Users/anupamchaudhauri/opt/miniconda3/lib/python3.9/site-packages (from chromadb) (4.11.0)\n",
      "Requirement already satisfied: kubernetes>=28.1.0 in /Users/anupamchaudhauri/opt/miniconda3/lib/python3.9/site-packages (from chromadb) (29.0.0)\n",
      "Requirement already satisfied: chroma-hnswlib==0.7.3 in /Users/anupamchaudhauri/opt/miniconda3/lib/python3.9/site-packages (from chromadb) (0.7.3)\n",
      "Requirement already satisfied: pydantic>=1.9 in /Users/anupamchaudhauri/opt/miniconda3/lib/python3.9/site-packages (from chromadb) (2.6.0)\n",
      "Requirement already satisfied: typer>=0.9.0 in /Users/anupamchaudhauri/opt/miniconda3/lib/python3.9/site-packages (from chromadb) (0.12.3)\n",
      "Requirement already satisfied: pypika>=0.48.9 in /Users/anupamchaudhauri/opt/miniconda3/lib/python3.9/site-packages (from chromadb) (0.48.9)\n",
      "Requirement already satisfied: orjson>=3.9.12 in /Users/anupamchaudhauri/opt/miniconda3/lib/python3.9/site-packages (from chromadb) (3.10.3)\n",
      "Requirement already satisfied: uvicorn[standard]>=0.18.3 in /Users/anupamchaudhauri/opt/miniconda3/lib/python3.9/site-packages (from chromadb) (0.29.0)\n",
      "Requirement already satisfied: importlib-resources in /Users/anupamchaudhauri/opt/miniconda3/lib/python3.9/site-packages (from chromadb) (6.4.0)\n",
      "Requirement already satisfied: tqdm>=4.65.0 in /Users/anupamchaudhauri/opt/miniconda3/lib/python3.9/site-packages (from chromadb) (4.66.4)\n",
      "Requirement already satisfied: bcrypt>=4.0.1 in /Users/anupamchaudhauri/opt/miniconda3/lib/python3.9/site-packages (from chromadb) (4.1.3)\n",
      "Requirement already satisfied: opentelemetry-sdk>=1.2.0 in /Users/anupamchaudhauri/opt/miniconda3/lib/python3.9/site-packages (from chromadb) (1.24.0)\n",
      "Requirement already satisfied: build>=1.0.3 in /Users/anupamchaudhauri/opt/miniconda3/lib/python3.9/site-packages (from chromadb) (1.2.1)\n",
      "Requirement already satisfied: onnxruntime>=1.14.1 in /Users/anupamchaudhauri/opt/miniconda3/lib/python3.9/site-packages (from chromadb) (1.18.0)\n",
      "Requirement already satisfied: tokenizers>=0.13.2 in /Users/anupamchaudhauri/opt/miniconda3/lib/python3.9/site-packages (from chromadb) (0.19.1)\n",
      "Requirement already satisfied: grpcio>=1.58.0 in /Users/anupamchaudhauri/opt/miniconda3/lib/python3.9/site-packages (from chromadb) (1.63.0)\n",
      "Requirement already satisfied: langchain-text-splitters<0.3.0,>=0.2.0 in /Users/anupamchaudhauri/opt/miniconda3/lib/python3.9/site-packages (from langchain) (0.2.0)\n",
      "Requirement already satisfied: async-timeout<5.0.0,>=4.0.0 in /Users/anupamchaudhauri/opt/miniconda3/lib/python3.9/site-packages (from langchain) (4.0.3)\n",
      "Requirement already satisfied: aiosignal>=1.1.2 in /Users/anupamchaudhauri/opt/miniconda3/lib/python3.9/site-packages (from aiohttp<4.0.0,>=3.8.3->langchain_community) (1.3.1)\n",
      "Requirement already satisfied: attrs>=17.3.0 in /Users/anupamchaudhauri/opt/miniconda3/lib/python3.9/site-packages (from aiohttp<4.0.0,>=3.8.3->langchain_community) (21.4.0)\n",
      "Requirement already satisfied: frozenlist>=1.1.1 in /Users/anupamchaudhauri/opt/miniconda3/lib/python3.9/site-packages (from aiohttp<4.0.0,>=3.8.3->langchain_community) (1.4.1)\n",
      "Requirement already satisfied: yarl<2.0,>=1.0 in /Users/anupamchaudhauri/opt/miniconda3/lib/python3.9/site-packages (from aiohttp<4.0.0,>=3.8.3->langchain_community) (1.9.4)\n",
      "Requirement already satisfied: multidict<7.0,>=4.5 in /Users/anupamchaudhauri/opt/miniconda3/lib/python3.9/site-packages (from aiohttp<4.0.0,>=3.8.3->langchain_community) (6.0.5)\n",
      "Requirement already satisfied: pyproject_hooks in /Users/anupamchaudhauri/opt/miniconda3/lib/python3.9/site-packages (from build>=1.0.3->chromadb) (1.1.0)\n",
      "Requirement already satisfied: packaging>=19.1 in /Users/anupamchaudhauri/opt/miniconda3/lib/python3.9/site-packages (from build>=1.0.3->chromadb) (23.2)\n",
      "Requirement already satisfied: importlib-metadata>=4.6 in /Users/anupamchaudhauri/opt/miniconda3/lib/python3.9/site-packages (from build>=1.0.3->chromadb) (7.0.0)\n",
      "Requirement already satisfied: tomli>=1.1.0 in /Users/anupamchaudhauri/opt/miniconda3/lib/python3.9/site-packages (from build>=1.0.3->chromadb) (2.0.1)\n",
      "Requirement already satisfied: marshmallow<4.0.0,>=3.18.0 in /Users/anupamchaudhauri/opt/miniconda3/lib/python3.9/site-packages (from dataclasses-json<0.7,>=0.5.7->langchain_community) (3.21.2)\n",
      "Requirement already satisfied: typing-inspect<1,>=0.4.0 in /Users/anupamchaudhauri/opt/miniconda3/lib/python3.9/site-packages (from dataclasses-json<0.7,>=0.5.7->langchain_community) (0.9.0)\n",
      "Requirement already satisfied: python-multipart>=0.0.7 in /Users/anupamchaudhauri/opt/miniconda3/lib/python3.9/site-packages (from fastapi>=0.95.2->chromadb) (0.0.9)\n",
      "Requirement already satisfied: ujson!=4.0.2,!=4.1.0,!=4.2.0,!=4.3.0,!=5.0.0,!=5.1.0,>=4.0.1 in /Users/anupamchaudhauri/opt/miniconda3/lib/python3.9/site-packages (from fastapi>=0.95.2->chromadb) (5.10.0)\n",
      "Requirement already satisfied: httpx>=0.23.0 in /Users/anupamchaudhauri/opt/miniconda3/lib/python3.9/site-packages (from fastapi>=0.95.2->chromadb) (0.26.0)\n",
      "Requirement already satisfied: jinja2>=2.11.2 in /Users/anupamchaudhauri/opt/miniconda3/lib/python3.9/site-packages (from fastapi>=0.95.2->chromadb) (3.1.3)\n",
      "Requirement already satisfied: email_validator>=2.0.0 in /Users/anupamchaudhauri/opt/miniconda3/lib/python3.9/site-packages (from fastapi>=0.95.2->chromadb) (2.1.1)\n",
      "Requirement already satisfied: starlette<0.38.0,>=0.37.2 in /Users/anupamchaudhauri/opt/miniconda3/lib/python3.9/site-packages (from fastapi>=0.95.2->chromadb) (0.37.2)\n",
      "Requirement already satisfied: fastapi-cli>=0.0.2 in /Users/anupamchaudhauri/opt/miniconda3/lib/python3.9/site-packages (from fastapi>=0.95.2->chromadb) (0.0.4)\n",
      "Requirement already satisfied: idna>=2.0.0 in /Users/anupamchaudhauri/opt/miniconda3/lib/python3.9/site-packages (from email_validator>=2.0.0->fastapi>=0.95.2->chromadb) (3.7)\n",
      "Requirement already satisfied: dnspython>=2.0.0 in /Users/anupamchaudhauri/opt/miniconda3/lib/python3.9/site-packages (from email_validator>=2.0.0->fastapi>=0.95.2->chromadb) (2.6.1)\n"
     ]
    },
    {
     "name": "stdout",
     "output_type": "stream",
     "text": [
      "Requirement already satisfied: certifi in /Users/anupamchaudhauri/opt/miniconda3/lib/python3.9/site-packages (from httpx>=0.23.0->fastapi>=0.95.2->chromadb) (2024.2.2)\n",
      "Requirement already satisfied: httpcore==1.* in /Users/anupamchaudhauri/opt/miniconda3/lib/python3.9/site-packages (from httpx>=0.23.0->fastapi>=0.95.2->chromadb) (1.0.2)\n",
      "Requirement already satisfied: sniffio in /Users/anupamchaudhauri/opt/miniconda3/lib/python3.9/site-packages (from httpx>=0.23.0->fastapi>=0.95.2->chromadb) (1.2.0)\n",
      "Requirement already satisfied: anyio in /Users/anupamchaudhauri/opt/miniconda3/lib/python3.9/site-packages (from httpx>=0.23.0->fastapi>=0.95.2->chromadb) (3.5.0)\n",
      "Requirement already satisfied: h11<0.15,>=0.13 in /Users/anupamchaudhauri/opt/miniconda3/lib/python3.9/site-packages (from httpcore==1.*->httpx>=0.23.0->fastapi>=0.95.2->chromadb) (0.14.0)\n",
      "Requirement already satisfied: zipp>=0.5 in /Users/anupamchaudhauri/opt/miniconda3/lib/python3.9/site-packages (from importlib-metadata>=4.6->build>=1.0.3->chromadb) (3.18.1)\n",
      "Requirement already satisfied: MarkupSafe>=2.0 in /Users/anupamchaudhauri/opt/miniconda3/lib/python3.9/site-packages (from jinja2>=2.11.2->fastapi>=0.95.2->chromadb) (2.1.1)\n",
      "Requirement already satisfied: python-dateutil>=2.5.3 in /Users/anupamchaudhauri/opt/miniconda3/lib/python3.9/site-packages (from kubernetes>=28.1.0->chromadb) (2.8.2)\n",
      "Requirement already satisfied: six>=1.9.0 in /Users/anupamchaudhauri/opt/miniconda3/lib/python3.9/site-packages (from kubernetes>=28.1.0->chromadb) (1.16.0)\n",
      "Requirement already satisfied: websocket-client!=0.40.0,!=0.41.*,!=0.42.*,>=0.32.0 in /Users/anupamchaudhauri/opt/miniconda3/lib/python3.9/site-packages (from kubernetes>=28.1.0->chromadb) (0.58.0)\n",
      "Requirement already satisfied: oauthlib>=3.2.2 in /Users/anupamchaudhauri/opt/miniconda3/lib/python3.9/site-packages (from kubernetes>=28.1.0->chromadb) (3.2.2)\n",
      "Requirement already satisfied: requests-oauthlib in /Users/anupamchaudhauri/opt/miniconda3/lib/python3.9/site-packages (from kubernetes>=28.1.0->chromadb) (2.0.0)\n",
      "Requirement already satisfied: urllib3>=1.24.2 in /Users/anupamchaudhauri/opt/miniconda3/lib/python3.9/site-packages (from kubernetes>=28.1.0->chromadb) (2.2.1)\n",
      "Requirement already satisfied: google-auth>=1.0.1 in /Users/anupamchaudhauri/opt/miniconda3/lib/python3.9/site-packages (from kubernetes>=28.1.0->chromadb) (2.29.0)\n",
      "Requirement already satisfied: cachetools<6.0,>=2.0.0 in /Users/anupamchaudhauri/opt/miniconda3/lib/python3.9/site-packages (from google-auth>=1.0.1->kubernetes>=28.1.0->chromadb) (5.3.3)\n",
      "Requirement already satisfied: rsa<5,>=3.1.4 in /Users/anupamchaudhauri/opt/miniconda3/lib/python3.9/site-packages (from google-auth>=1.0.1->kubernetes>=28.1.0->chromadb) (4.9)\n",
      "Requirement already satisfied: pyasn1-modules>=0.2.1 in /Users/anupamchaudhauri/opt/miniconda3/lib/python3.9/site-packages (from google-auth>=1.0.1->kubernetes>=28.1.0->chromadb) (0.4.0)\n",
      "Requirement already satisfied: jsonpatch<2.0,>=1.33 in /Users/anupamchaudhauri/opt/miniconda3/lib/python3.9/site-packages (from langchain-core<0.3.0,>=0.2.12->langchain_community) (1.33)\n",
      "Requirement already satisfied: jsonpointer>=1.9 in /Users/anupamchaudhauri/opt/miniconda3/lib/python3.9/site-packages (from jsonpatch<2.0,>=1.33->langchain-core<0.3.0,>=0.2.12->langchain_community) (2.0)\n",
      "Requirement already satisfied: sympy in /Users/anupamchaudhauri/opt/miniconda3/lib/python3.9/site-packages (from onnxruntime>=1.14.1->chromadb) (1.12)\n",
      "Requirement already satisfied: coloredlogs in /Users/anupamchaudhauri/opt/miniconda3/lib/python3.9/site-packages (from onnxruntime>=1.14.1->chromadb) (15.0.1)\n",
      "Requirement already satisfied: protobuf in /Users/anupamchaudhauri/opt/miniconda3/lib/python3.9/site-packages (from onnxruntime>=1.14.1->chromadb) (3.20.3)\n",
      "Requirement already satisfied: flatbuffers in /Users/anupamchaudhauri/opt/miniconda3/lib/python3.9/site-packages (from onnxruntime>=1.14.1->chromadb) (24.3.25)\n",
      "Requirement already satisfied: distro<2,>=1.7.0 in /Users/anupamchaudhauri/opt/miniconda3/lib/python3.9/site-packages (from openai<2.0.0,>=1.32.0->langchain-openai) (1.9.0)\n",
      "Requirement already satisfied: deprecated>=1.2.6 in /Users/anupamchaudhauri/opt/miniconda3/lib/python3.9/site-packages (from opentelemetry-api>=1.2.0->chromadb) (1.2.14)\n",
      "Requirement already satisfied: wrapt<2,>=1.10 in /Users/anupamchaudhauri/opt/miniconda3/lib/python3.9/site-packages (from deprecated>=1.2.6->opentelemetry-api>=1.2.0->chromadb) (1.16.0)\n",
      "Requirement already satisfied: googleapis-common-protos~=1.52 in /Users/anupamchaudhauri/opt/miniconda3/lib/python3.9/site-packages (from opentelemetry-exporter-otlp-proto-grpc>=1.2.0->chromadb) (1.63.0)\n",
      "Requirement already satisfied: opentelemetry-proto==1.24.0 in /Users/anupamchaudhauri/opt/miniconda3/lib/python3.9/site-packages (from opentelemetry-exporter-otlp-proto-grpc>=1.2.0->chromadb) (1.24.0)\n",
      "Requirement already satisfied: opentelemetry-exporter-otlp-proto-common==1.24.0 in /Users/anupamchaudhauri/opt/miniconda3/lib/python3.9/site-packages (from opentelemetry-exporter-otlp-proto-grpc>=1.2.0->chromadb) (1.24.0)\n",
      "Requirement already satisfied: opentelemetry-instrumentation==0.45b0 in /Users/anupamchaudhauri/opt/miniconda3/lib/python3.9/site-packages (from opentelemetry-instrumentation-fastapi>=0.41b0->chromadb) (0.45b0)\n",
      "Requirement already satisfied: opentelemetry-util-http==0.45b0 in /Users/anupamchaudhauri/opt/miniconda3/lib/python3.9/site-packages (from opentelemetry-instrumentation-fastapi>=0.41b0->chromadb) (0.45b0)\n",
      "Requirement already satisfied: opentelemetry-semantic-conventions==0.45b0 in /Users/anupamchaudhauri/opt/miniconda3/lib/python3.9/site-packages (from opentelemetry-instrumentation-fastapi>=0.41b0->chromadb) (0.45b0)\n",
      "Requirement already satisfied: opentelemetry-instrumentation-asgi==0.45b0 in /Users/anupamchaudhauri/opt/miniconda3/lib/python3.9/site-packages (from opentelemetry-instrumentation-fastapi>=0.41b0->chromadb) (0.45b0)\n",
      "Requirement already satisfied: setuptools>=16.0 in /Users/anupamchaudhauri/opt/miniconda3/lib/python3.9/site-packages (from opentelemetry-instrumentation==0.45b0->opentelemetry-instrumentation-fastapi>=0.41b0->chromadb) (61.2.0)\n",
      "Requirement already satisfied: asgiref~=3.0 in /Users/anupamchaudhauri/opt/miniconda3/lib/python3.9/site-packages (from opentelemetry-instrumentation-asgi==0.45b0->opentelemetry-instrumentation-fastapi>=0.41b0->chromadb) (3.8.1)\n",
      "Requirement already satisfied: monotonic>=1.5 in /Users/anupamchaudhauri/opt/miniconda3/lib/python3.9/site-packages (from posthog>=2.4.0->chromadb) (1.6)\n",
      "Requirement already satisfied: backoff>=1.10.0 in /Users/anupamchaudhauri/opt/miniconda3/lib/python3.9/site-packages (from posthog>=2.4.0->chromadb) (2.2.1)\n",
      "Requirement already satisfied: pyasn1<0.7.0,>=0.4.6 in /Users/anupamchaudhauri/opt/miniconda3/lib/python3.9/site-packages (from pyasn1-modules>=0.2.1->google-auth>=1.0.1->kubernetes>=28.1.0->chromadb) (0.6.0)\n",
      "Requirement already satisfied: pydantic-core==2.16.1 in /Users/anupamchaudhauri/opt/miniconda3/lib/python3.9/site-packages (from pydantic>=1.9->chromadb) (2.16.1)\n",
      "Requirement already satisfied: annotated-types>=0.4.0 in /Users/anupamchaudhauri/opt/miniconda3/lib/python3.9/site-packages (from pydantic>=1.9->chromadb) (0.6.0)\n",
      "Requirement already satisfied: charset-normalizer<4,>=2 in /Users/anupamchaudhauri/opt/miniconda3/lib/python3.9/site-packages (from requests<3,>=2->langchain_community) (3.3.2)\n",
      "Requirement already satisfied: huggingface-hub<1.0,>=0.16.4 in /Users/anupamchaudhauri/opt/miniconda3/lib/python3.9/site-packages (from tokenizers>=0.13.2->chromadb) (0.23.2)\n",
      "Requirement already satisfied: filelock in /Users/anupamchaudhauri/opt/miniconda3/lib/python3.9/site-packages (from huggingface-hub<1.0,>=0.16.4->tokenizers>=0.13.2->chromadb) (3.9.0)\n",
      "Requirement already satisfied: fsspec>=2023.5.0 in /Users/anupamchaudhauri/opt/miniconda3/lib/python3.9/site-packages (from huggingface-hub<1.0,>=0.16.4->tokenizers>=0.13.2->chromadb) (2024.3.1)\n",
      "Requirement already satisfied: shellingham>=1.3.0 in /Users/anupamchaudhauri/opt/miniconda3/lib/python3.9/site-packages (from typer>=0.9.0->chromadb) (1.5.0.post1)\n",
      "Requirement already satisfied: rich>=10.11.0 in /Users/anupamchaudhauri/opt/miniconda3/lib/python3.9/site-packages (from typer>=0.9.0->chromadb) (13.7.1)\n",
      "Requirement already satisfied: click>=8.0.0 in /Users/anupamchaudhauri/opt/miniconda3/lib/python3.9/site-packages (from typer>=0.9.0->chromadb) (8.1.7)\n",
      "Requirement already satisfied: pygments<3.0.0,>=2.13.0 in /Users/anupamchaudhauri/opt/miniconda3/lib/python3.9/site-packages (from rich>=10.11.0->typer>=0.9.0->chromadb) (2.18.0)\n",
      "Requirement already satisfied: markdown-it-py>=2.2.0 in /Users/anupamchaudhauri/opt/miniconda3/lib/python3.9/site-packages (from rich>=10.11.0->typer>=0.9.0->chromadb) (3.0.0)\n"
     ]
    },
    {
     "name": "stdout",
     "output_type": "stream",
     "text": [
      "Requirement already satisfied: mdurl~=0.1 in /Users/anupamchaudhauri/opt/miniconda3/lib/python3.9/site-packages (from markdown-it-py>=2.2.0->rich>=10.11.0->typer>=0.9.0->chromadb) (0.1.2)\n",
      "Requirement already satisfied: mypy-extensions>=0.3.0 in /Users/anupamchaudhauri/opt/miniconda3/lib/python3.9/site-packages (from typing-inspect<1,>=0.4.0->dataclasses-json<0.7,>=0.5.7->langchain_community) (1.0.0)\n",
      "Requirement already satisfied: httptools>=0.5.0 in /Users/anupamchaudhauri/opt/miniconda3/lib/python3.9/site-packages (from uvicorn[standard]>=0.18.3->chromadb) (0.6.1)\n",
      "Requirement already satisfied: python-dotenv>=0.13 in /Users/anupamchaudhauri/opt/miniconda3/lib/python3.9/site-packages (from uvicorn[standard]>=0.18.3->chromadb) (1.0.1)\n",
      "Requirement already satisfied: websockets>=10.4 in /Users/anupamchaudhauri/opt/miniconda3/lib/python3.9/site-packages (from uvicorn[standard]>=0.18.3->chromadb) (12.0)\n",
      "Requirement already satisfied: uvloop!=0.15.0,!=0.15.1,>=0.14.0 in /Users/anupamchaudhauri/opt/miniconda3/lib/python3.9/site-packages (from uvicorn[standard]>=0.18.3->chromadb) (0.19.0)\n",
      "Requirement already satisfied: watchfiles>=0.13 in /Users/anupamchaudhauri/opt/miniconda3/lib/python3.9/site-packages (from uvicorn[standard]>=0.18.3->chromadb) (0.22.0)\n",
      "Requirement already satisfied: humanfriendly>=9.1 in /Users/anupamchaudhauri/opt/miniconda3/lib/python3.9/site-packages (from coloredlogs->onnxruntime>=1.14.1->chromadb) (10.0)\n",
      "Requirement already satisfied: mpmath>=0.19 in /Users/anupamchaudhauri/opt/miniconda3/lib/python3.9/site-packages (from sympy->onnxruntime>=1.14.1->chromadb) (1.3.0)\n"
     ]
    }
   ],
   "source": [
    "! pip install langchain_community tiktoken langchain-openai langchainhub chromadb langchain"
   ]
  },
  {
   "cell_type": "code",
   "execution_count": null,
   "id": "f3ef2141",
   "metadata": {},
   "outputs": [],
   "source": []
  },
  {
   "cell_type": "code",
   "execution_count": 4,
   "id": "d548940c",
   "metadata": {},
   "outputs": [],
   "source": [
    "from langchain_core.output_parsers import StrOutputParser\n",
    "from langchain_core.prompts import ChatPromptTemplate\n",
    "from langchain_openai import ChatOpenAI"
   ]
  },
  {
   "cell_type": "code",
   "execution_count": 5,
   "id": "d5177404",
   "metadata": {},
   "outputs": [
    {
     "data": {
      "text/plain": [
       "'Melbourne is home to the largest tram network in the world, with over 250 kilometers of double track and nearly 500 trams running on 25 routes throughout the city.'"
      ]
     },
     "execution_count": 5,
     "metadata": {},
     "output_type": "execute_result"
    }
   ],
   "source": [
    "prompt = ChatPromptTemplate.from_template(\"Tell me something random about {topic}\")\n",
    "model = ChatOpenAI()\n",
    "output_parser = StrOutputParser()\n",
    "\n",
    "chain = prompt | model | output_parser\n",
    "\n",
    "chain.invoke({\"topic\": \"Melbourne\"})"
   ]
  },
  {
   "cell_type": "code",
   "execution_count": 6,
   "id": "88333420",
   "metadata": {},
   "outputs": [
    {
     "name": "stdout",
     "output_type": "stream",
     "text": [
      "messages=[HumanMessage(content='Tell me something random about Melbourne')]\n"
     ]
    }
   ],
   "source": [
    "print(prompt.invoke({\"topic\": \"Melbourne\"}))\n"
   ]
  },
  {
   "cell_type": "code",
   "execution_count": 7,
   "id": "dd1d9d72",
   "metadata": {},
   "outputs": [
    {
     "data": {
      "text/plain": [
       "AIMessage(content='Melbourne is known for its unpredictable weather, often experiencing \"four seasons in one day\" where the weather can change rapidly from sunny to rainy to windy within a short period of time.', response_metadata={'token_usage': {'completion_tokens': 37, 'prompt_tokens': 13, 'total_tokens': 50}, 'model_name': 'gpt-3.5-turbo-0125', 'system_fingerprint': None, 'finish_reason': 'stop', 'logprobs': None}, id='run-9f5c102c-16e7-4c7a-b1a4-5a6f60abe2bc-0', usage_metadata={'input_tokens': 13, 'output_tokens': 37, 'total_tokens': 50})"
      ]
     },
     "execution_count": 7,
     "metadata": {},
     "output_type": "execute_result"
    }
   ],
   "source": [
    "from langchain_core.messages.human import HumanMessage\n",
    "messages=[HumanMessage(content='Tell me something random about Melbourne')]\n",
    "\n",
    "\n",
    "\n",
    "model.invoke(messages)"
   ]
  },
  {
   "cell_type": "markdown",
   "id": "8debcff0",
   "metadata": {},
   "source": [
    "**The pipe operator \"|\" in Python?**"
   ]
  },
  {
   "cell_type": "code",
   "execution_count": 8,
   "id": "05cc9481",
   "metadata": {},
   "outputs": [
    {
     "data": {
      "text/plain": [
       "15"
      ]
     },
     "execution_count": 8,
     "metadata": {},
     "output_type": "execute_result"
    }
   ],
   "source": [
    "15|2"
   ]
  },
  {
   "cell_type": "code",
   "execution_count": 9,
   "id": "b57bf860",
   "metadata": {},
   "outputs": [],
   "source": [
    "from abc import ABC, abstractmethod\n",
    "\n",
    "class CRunnable(ABC):\n",
    "    def __init__(self):\n",
    "        self.next = None\n",
    "\n",
    "    @abstractmethod\n",
    "    def process(self, data):\n",
    "        \"\"\"\n",
    "        This method must be implemented by subclasses to define\n",
    "        data processing behavior.\n",
    "        \"\"\"\n",
    "        pass\n",
    "\n",
    "    def invoke(self, data):\n",
    "        processed_data = self.process(data)\n",
    "        if self.next is not None:\n",
    "            return self.next.invoke(processed_data)\n",
    "        return processed_data\n",
    "\n",
    "    def __or__(self, other):                      # _or_ imply the pipe operator!\n",
    "        return CRunnableSequence(self, other)\n",
    "\n",
    "class CRunnableSequence(CRunnable):\n",
    "    def __init__(self, first, second):\n",
    "        super().__init__()\n",
    "        self.first = first\n",
    "        self.second = second\n",
    "\n",
    "    def process(self, data):\n",
    "        return data\n",
    "\n",
    "    def invoke(self, data):\n",
    "        first_result = self.first.invoke(data)\n",
    "        return self.second.invoke(first_result)"
   ]
  },
  {
   "cell_type": "code",
   "execution_count": 10,
   "id": "773d28c8",
   "metadata": {},
   "outputs": [],
   "source": [
    "class AddTen(CRunnable):\n",
    "    def process(self, data):\n",
    "        print(\"AddTen: \", data)\n",
    "        return data + 10\n",
    "\n",
    "class MultiplyByTwo(CRunnable):\n",
    "    def process(self, data):\n",
    "        print(\"Multiply by 2: \", data)\n",
    "        return data * 2\n",
    "\n",
    "class ConvertToString(CRunnable):\n",
    "    def process(self, data):\n",
    "        print(\"Convert to string: \", data)\n",
    "        return f\"Result: {data}\""
   ]
  },
  {
   "cell_type": "code",
   "execution_count": 11,
   "id": "886e56ce",
   "metadata": {},
   "outputs": [
    {
     "name": "stdout",
     "output_type": "stream",
     "text": [
      "AddTen:  2\n",
      "Multiply by 2:  12\n",
      "Convert to string:  24\n"
     ]
    },
    {
     "data": {
      "text/plain": [
       "'Result: 24'"
      ]
     },
     "execution_count": 11,
     "metadata": {},
     "output_type": "execute_result"
    }
   ],
   "source": [
    "a = AddTen()\n",
    "b = MultiplyByTwo()\n",
    "c = ConvertToString()\n",
    "mychain1 = a | b\n",
    "mychain2 = mychain1 | c\n",
    "mychain2.invoke(2)"
   ]
  },
  {
   "cell_type": "code",
   "execution_count": 12,
   "id": "dc25a16c",
   "metadata": {},
   "outputs": [],
   "source": [
    "a = AddTen()\n",
    "b = MultiplyByTwo()\n",
    "c = ConvertToString()\n",
    "\n",
    "chain = a | b | c"
   ]
  },
  {
   "cell_type": "code",
   "execution_count": 13,
   "id": "f289a889",
   "metadata": {},
   "outputs": [
    {
     "name": "stdout",
     "output_type": "stream",
     "text": [
      "AddTen:  10\n",
      "Multiply by 2:  20\n",
      "Convert to string:  40\n",
      "Result: 40\n"
     ]
    }
   ],
   "source": [
    "result = chain.invoke(10)\n",
    "print(result)"
   ]
  },
  {
   "cell_type": "code",
   "execution_count": 14,
   "id": "59141abe",
   "metadata": {},
   "outputs": [],
   "source": [
    "from langchain_core.runnables import RunnablePassthrough, RunnableLambda, RunnableParallel\n"
   ]
  },
  {
   "cell_type": "code",
   "execution_count": 15,
   "id": "1bf5ac81",
   "metadata": {},
   "outputs": [
    {
     "data": {
      "text/plain": [
       "'hello'"
      ]
     },
     "execution_count": 15,
     "metadata": {},
     "output_type": "execute_result"
    }
   ],
   "source": [
    "chain = RunnablePassthrough() | RunnablePassthrough () | RunnablePassthrough ()\n",
    "chain.invoke(\"hello\")"
   ]
  },
  {
   "cell_type": "code",
   "execution_count": null,
   "id": "380cfe2d",
   "metadata": {},
   "outputs": [],
   "source": []
  }
 ],
 "metadata": {
  "kernelspec": {
   "display_name": "Python 3 (ipykernel)",
   "language": "python",
   "name": "python3"
  },
  "language_info": {
   "codemirror_mode": {
    "name": "ipython",
    "version": 3
   },
   "file_extension": ".py",
   "mimetype": "text/x-python",
   "name": "python",
   "nbconvert_exporter": "python",
   "pygments_lexer": "ipython3",
   "version": "3.9.12"
  }
 },
 "nbformat": 4,
 "nbformat_minor": 5
}
