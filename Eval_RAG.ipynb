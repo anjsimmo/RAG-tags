{
 "cells": [
  {
   "cell_type": "code",
   "execution_count": 1,
   "id": "148fec01",
   "metadata": {},
   "outputs": [
    {
     "name": "stdout",
     "output_type": "stream",
     "text": [
      "\u001b[33mWARNING: Skipping /home/anj/miniconda3/envs/hashalg/lib/python3.12/site-packages/jupyter-1.0.0.dist-info due to invalid metadata entry 'name'\u001b[0m\u001b[33m\n",
      "\u001b[0mRequirement already satisfied: python-dotenv in /home/anj/miniconda3/envs/hashalg/lib/python3.12/site-packages (1.0.1)\n",
      "\u001b[33mWARNING: Skipping /home/anj/miniconda3/envs/hashalg/lib/python3.12/site-packages/jupyter-1.0.0.dist-info due to invalid metadata entry 'name'\u001b[0m\u001b[33m\n",
      "\u001b[0m\u001b[33mWARNING: Skipping /home/anj/miniconda3/envs/hashalg/lib/python3.12/site-packages/jupyter-1.0.0.dist-info due to invalid metadata entry 'name'\u001b[0m\u001b[33m\n",
      "\u001b[0m\u001b[33mWARNING: Skipping /home/anj/miniconda3/envs/hashalg/lib/python3.12/site-packages/jupyter-1.0.0.dist-info due to invalid metadata entry 'name'\u001b[0m\u001b[33m\n",
      "\u001b[0mNote: you may need to restart the kernel to use updated packages.\n"
     ]
    }
   ],
   "source": [
    "pip install python-dotenv"
   ]
  },
  {
   "cell_type": "code",
   "execution_count": null,
   "id": "022a5c70",
   "metadata": {},
   "outputs": [],
   "source": []
  },
  {
   "cell_type": "code",
   "execution_count": null,
   "id": "c8f242fd",
   "metadata": {},
   "outputs": [],
   "source": []
  },
  {
   "cell_type": "code",
   "execution_count": 2,
   "id": "a04e4ad0",
   "metadata": {},
   "outputs": [],
   "source": [
    "\n",
    "#make your own .env file and then use the following\n",
    "\n",
    "import os\n",
    "from dotenv import load_dotenv\n",
    "\n",
    "load_dotenv(dotenv_path='my.env')\n",
    "\n",
    "\n",
    "assert os.getenv(\"OPENAI_API_KEY\"), \"Set OPENAI_API_KEY in my.env file\"\n",
    "\n",
    "# Your code using the environment variables\n",
    "langchain_tracing_v2 = os.getenv(\"LANGCHAIN_TRACING_V2\")\n",
    "langchain_endpoint = os.getenv(\"LANGCHAIN_ENDPOINT\")\n",
    "langchain_api_key = os.getenv(\"LANGCHAIN_API_KEY\")\n",
    "openai_api_key = os.getenv(\"OPENAI_API_KEY\")\n",
    "\n"
   ]
  },
  {
   "cell_type": "markdown",
   "id": "c041575f",
   "metadata": {},
   "source": [
    "**Collect and Load dataset**"
   ]
  },
  {
   "cell_type": "code",
   "execution_count": null,
   "id": "85256641",
   "metadata": {},
   "outputs": [],
   "source": []
  },
  {
   "cell_type": "code",
   "execution_count": null,
   "id": "b2d9d4c4",
   "metadata": {},
   "outputs": [],
   "source": []
  },
  {
   "cell_type": "code",
   "execution_count": 3,
   "id": "e7d34ef0",
   "metadata": {},
   "outputs": [
    {
     "name": "stdout",
     "output_type": "stream",
     "text": [
      "Text content has been saved to document.txt\n"
     ]
    }
   ],
   "source": [
    "\n",
    "import requests\n",
    "from bs4 import BeautifulSoup\n",
    "\n",
    "# URL of the webpage\n",
    "#url = \"https://myscale.com/blog/mastering-rag-predictive-analytics-step-by-step-guide/\"\n",
    "url = \"https://www.newyorker.com/magazine/2006/08/28/manifold-destiny\"\n",
    "# Fetch the webpage content\n",
    "response = requests.get(url)\n",
    "web_content = response.content\n",
    "\n",
    "# Parse the content with BeautifulSoup\n",
    "soup = BeautifulSoup(web_content, 'html.parser')\n",
    "\n",
    "# Extract the main text from the webpage\n",
    "# This example assumes that the main content is within <article> tags, adjust as necessary\n",
    "article = soup.find('article')\n",
    "if article:\n",
    "    text_content = article.get_text(separator='\\n', strip=True)\n",
    "else:\n",
    "    text_content = \"Article content not found.\"\n",
    "\n",
    "# Save the extracted text to a document\n",
    "with open(\"document.txt\", \"w\", encoding='utf-8') as file:\n",
    "    file.write(text_content)\n",
    "\n",
    "print(\"Text content has been saved to document.txt\")\n"
   ]
  },
  {
   "cell_type": "code",
   "execution_count": 4,
   "id": "c67cfce9",
   "metadata": {},
   "outputs": [],
   "source": [
    "from langchain.document_loaders import TextLoader\n",
    "\n",
    "\n",
    "loader = TextLoader(\"./document.txt\")    \n",
    "documents = loader.load()\n",
    "\n",
    "\n"
   ]
  },
  {
   "cell_type": "code",
   "execution_count": null,
   "id": "b490f93f",
   "metadata": {},
   "outputs": [],
   "source": []
  },
  {
   "cell_type": "markdown",
   "id": "d76539bc",
   "metadata": {},
   "source": [
    "Notice that seperator is important to chunk the string "
   ]
  },
  {
   "cell_type": "code",
   "execution_count": 5,
   "id": "246ff974",
   "metadata": {},
   "outputs": [
    {
     "name": "stdout",
     "output_type": "stream",
     "text": [
      "This is a long text that we want to split into\n",
      "==================================================\n",
      "split into smaller chunks for processing. Each\n",
      "==================================================\n",
      "Each chunk will have a maximum number of\n",
      "==================================================\n",
      "number of characters.\n",
      "==================================================\n"
     ]
    }
   ],
   "source": [
    "from langchain.text_splitter import CharacterTextSplitter\n",
    "\n",
    "# Sample text\n",
    "text = \"This is a long text that we want to split into smaller chunks for processing. Each chunk will have a maximum number of characters.\"\n",
    "\n",
    "# Initialize the CharacterTextSplitter\n",
    "splitter = CharacterTextSplitter(\n",
    "    chunk_size=50,  # Maximum number of characters in each chunk\n",
    "    chunk_overlap=10,  # Number of overlapping characters between chunks\n",
    "    separator=\" \"  # Split by spaces\n",
    ")\n",
    "\n",
    "# Split the text\n",
    "chunks = splitter.split_text(text)\n",
    "\n",
    "# Output the chunks\n",
    "for chunk in chunks:\n",
    "    print(chunk)\n",
    "    print(\"=\" * 50)\n"
   ]
  },
  {
   "cell_type": "code",
   "execution_count": 6,
   "id": "b1963028",
   "metadata": {},
   "outputs": [
    {
     "name": "stderr",
     "output_type": "stream",
     "text": [
      "Created a chunk of size 525, which is longer than the specified 500\n",
      "Created a chunk of size 933, which is longer than the specified 500\n",
      "Created a chunk of size 1018, which is longer than the specified 500\n",
      "Created a chunk of size 1185, which is longer than the specified 500\n",
      "Created a chunk of size 679, which is longer than the specified 500\n",
      "Created a chunk of size 878, which is longer than the specified 500\n",
      "Created a chunk of size 773, which is longer than the specified 500\n",
      "Created a chunk of size 850, which is longer than the specified 500\n",
      "Created a chunk of size 1019, which is longer than the specified 500\n",
      "Created a chunk of size 507, which is longer than the specified 500\n",
      "Created a chunk of size 1103, which is longer than the specified 500\n",
      "Created a chunk of size 706, which is longer than the specified 500\n",
      "Created a chunk of size 664, which is longer than the specified 500\n",
      "Created a chunk of size 1157, which is longer than the specified 500\n",
      "Created a chunk of size 905, which is longer than the specified 500\n",
      "Created a chunk of size 534, which is longer than the specified 500\n",
      "Created a chunk of size 644, which is longer than the specified 500\n",
      "Created a chunk of size 669, which is longer than the specified 500\n",
      "Created a chunk of size 534, which is longer than the specified 500\n",
      "Created a chunk of size 740, which is longer than the specified 500\n",
      "Created a chunk of size 565, which is longer than the specified 500\n",
      "Created a chunk of size 555, which is longer than the specified 500\n",
      "Created a chunk of size 571, which is longer than the specified 500\n",
      "Created a chunk of size 538, which is longer than the specified 500\n",
      "Created a chunk of size 995, which is longer than the specified 500\n",
      "Created a chunk of size 503, which is longer than the specified 500\n",
      "Created a chunk of size 715, which is longer than the specified 500\n",
      "Created a chunk of size 915, which is longer than the specified 500\n",
      "Created a chunk of size 1285, which is longer than the specified 500\n",
      "Created a chunk of size 1284, which is longer than the specified 500\n",
      "Created a chunk of size 759, which is longer than the specified 500\n",
      "Created a chunk of size 738, which is longer than the specified 500\n",
      "Created a chunk of size 630, which is longer than the specified 500\n",
      "Created a chunk of size 508, which is longer than the specified 500\n",
      "Created a chunk of size 572, which is longer than the specified 500\n",
      "Created a chunk of size 1076, which is longer than the specified 500\n",
      "Created a chunk of size 846, which is longer than the specified 500\n",
      "Created a chunk of size 636, which is longer than the specified 500\n",
      "Created a chunk of size 527, which is longer than the specified 500\n",
      "Created a chunk of size 650, which is longer than the specified 500\n",
      "Created a chunk of size 866, which is longer than the specified 500\n",
      "Created a chunk of size 750, which is longer than the specified 500\n",
      "Created a chunk of size 544, which is longer than the specified 500\n",
      "Created a chunk of size 940, which is longer than the specified 500\n",
      "Created a chunk of size 1237, which is longer than the specified 500\n",
      "Created a chunk of size 839, which is longer than the specified 500\n",
      "Created a chunk of size 658, which is longer than the specified 500\n",
      "Created a chunk of size 570, which is longer than the specified 500\n",
      "Created a chunk of size 812, which is longer than the specified 500\n",
      "Created a chunk of size 621, which is longer than the specified 500\n",
      "Created a chunk of size 614, which is longer than the specified 500\n",
      "Created a chunk of size 738, which is longer than the specified 500\n",
      "Created a chunk of size 573, which is longer than the specified 500\n",
      "Created a chunk of size 617, which is longer than the specified 500\n",
      "Created a chunk of size 954, which is longer than the specified 500\n",
      "Created a chunk of size 713, which is longer than the specified 500\n",
      "Created a chunk of size 768, which is longer than the specified 500\n",
      "Created a chunk of size 940, which is longer than the specified 500\n",
      "Created a chunk of size 657, which is longer than the specified 500\n",
      "Created a chunk of size 998, which is longer than the specified 500\n",
      "Created a chunk of size 1242, which is longer than the specified 500\n",
      "Created a chunk of size 830, which is longer than the specified 500\n"
     ]
    }
   ],
   "source": [
    " from langchain.text_splitter import CharacterTextSplitter\n",
    "# text_splitter = CharacterTextSplitter(chunk_size = 500, chunk_overlap = 50)\n",
    "# chunks = text_splitter.split_documents(documents[0].page_content)\n",
    "# print(len(chunks))\n",
    "# chunks\n",
    "# Initialize the CharacterTextSplitter with desired chunk size and overlap\n",
    "text_splitter = CharacterTextSplitter(chunk_size=500, chunk_overlap=50, separator=\"\\n\")\n",
    "\n",
    "# Split the document into chunks\n",
    "chunks = text_splitter.split_documents(documents)\n",
    "\n",
    "# Output the number of chunks and the chunks themselves\n",
    "#print(\"Number of chunks:\", len(chunks))\n"
   ]
  },
  {
   "cell_type": "code",
   "execution_count": 7,
   "id": "a96e5ccb",
   "metadata": {},
   "outputs": [
    {
     "data": {
      "text/plain": [
       "Document(page_content='Grigory Perelman is indeed reclusive. He left his job as a researcher at the Steklov Institute of Mathematics, in St. Petersburg, last December; he has few friends; and he lives with his mother in an apartment on the outskirts of the city. Although he had never granted an interview before, he was cordial and frank when we visited him, in late June, shortly after Yau’s conference in Beijing, taking us on a long walking tour of the city. “I’m looking for some friends, and they don’t have to be mathematicians,” he said. The week before the conference, Perelman had spent hours discussing the Poincaré conjecture with Sir John M. Ball, the fifty-eight-year-old president of the International Mathematical Union, the discipline’s influential professional association. The meeting, which took place at a conference center in a stately mansion overlooking the Neva River, was highly unusual. At the end of May, a committee of nine prominent mathematicians had voted to award Perelman a Fields Medal for his work on the Poincaré, and Ball had gone to St. Petersburg to persuade him to accept the prize in a public ceremony at the I.M.U.’s quadrennial congress, in Madrid, on August 22nd.', metadata={'source': './document.txt'})"
      ]
     },
     "execution_count": 7,
     "metadata": {},
     "output_type": "execute_result"
    }
   ],
   "source": [
    "chunks[5]"
   ]
  },
  {
   "cell_type": "code",
   "execution_count": 8,
   "id": "6f94d055",
   "metadata": {},
   "outputs": [
    {
     "name": "stdout",
     "output_type": "stream",
     "text": [
      "\u001b[33mWARNING: Skipping /home/anj/miniconda3/envs/hashalg/lib/python3.12/site-packages/jupyter-1.0.0.dist-info due to invalid metadata entry 'name'\u001b[0m\u001b[33m\n",
      "\u001b[0mRequirement already satisfied: langchain_community in /home/anj/miniconda3/envs/hashalg/lib/python3.12/site-packages (0.2.6)\n",
      "Requirement already satisfied: tiktoken in /home/anj/miniconda3/envs/hashalg/lib/python3.12/site-packages (0.7.0)\n",
      "Requirement already satisfied: langchain-openai in /home/anj/miniconda3/envs/hashalg/lib/python3.12/site-packages (0.1.10)\n",
      "Requirement already satisfied: langchainhub in /home/anj/miniconda3/envs/hashalg/lib/python3.12/site-packages (0.1.20)\n",
      "Requirement already satisfied: chromadb in /home/anj/miniconda3/envs/hashalg/lib/python3.12/site-packages (0.5.3)\n",
      "Requirement already satisfied: langchain in /home/anj/miniconda3/envs/hashalg/lib/python3.12/site-packages (0.2.6)\n",
      "Requirement already satisfied: PyYAML>=5.3 in /home/anj/miniconda3/envs/hashalg/lib/python3.12/site-packages (from langchain_community) (6.0.1)\n",
      "Requirement already satisfied: SQLAlchemy<3,>=1.4 in /home/anj/miniconda3/envs/hashalg/lib/python3.12/site-packages (from langchain_community) (2.0.31)\n",
      "Requirement already satisfied: aiohttp<4.0.0,>=3.8.3 in /home/anj/miniconda3/envs/hashalg/lib/python3.12/site-packages (from langchain_community) (3.9.5)\n",
      "Requirement already satisfied: dataclasses-json<0.7,>=0.5.7 in /home/anj/miniconda3/envs/hashalg/lib/python3.12/site-packages (from langchain_community) (0.6.7)\n",
      "Requirement already satisfied: langchain-core<0.3.0,>=0.2.10 in /home/anj/miniconda3/envs/hashalg/lib/python3.12/site-packages (from langchain_community) (0.2.10)\n",
      "Requirement already satisfied: langsmith<0.2.0,>=0.1.0 in /home/anj/miniconda3/envs/hashalg/lib/python3.12/site-packages (from langchain_community) (0.1.82)\n",
      "Requirement already satisfied: numpy<2.0.0,>=1.26.0 in /home/anj/miniconda3/envs/hashalg/lib/python3.12/site-packages (from langchain_community) (1.26.4)\n",
      "Requirement already satisfied: requests<3,>=2 in /home/anj/miniconda3/envs/hashalg/lib/python3.12/site-packages (from langchain_community) (2.32.3)\n",
      "Requirement already satisfied: tenacity!=8.4.0,<9.0.0,>=8.1.0 in /home/anj/miniconda3/envs/hashalg/lib/python3.12/site-packages (from langchain_community) (8.4.2)\n",
      "Requirement already satisfied: regex>=2022.1.18 in /home/anj/miniconda3/envs/hashalg/lib/python3.12/site-packages (from tiktoken) (2024.5.15)\n",
      "Requirement already satisfied: openai<2.0.0,>=1.26.0 in /home/anj/miniconda3/envs/hashalg/lib/python3.12/site-packages (from langchain-openai) (1.35.5)\n",
      "Requirement already satisfied: packaging<25,>=23.2 in /home/anj/miniconda3/envs/hashalg/lib/python3.12/site-packages (from langchainhub) (24.1)\n",
      "Requirement already satisfied: types-requests<3.0.0.0,>=2.31.0.2 in /home/anj/miniconda3/envs/hashalg/lib/python3.12/site-packages (from langchainhub) (2.32.0.20240712)\n",
      "Requirement already satisfied: build>=1.0.3 in /home/anj/miniconda3/envs/hashalg/lib/python3.12/site-packages (from chromadb) (1.2.1)\n",
      "Requirement already satisfied: pydantic>=1.9 in /home/anj/miniconda3/envs/hashalg/lib/python3.12/site-packages (from chromadb) (2.7.4)\n",
      "Requirement already satisfied: chroma-hnswlib==0.7.3 in /home/anj/miniconda3/envs/hashalg/lib/python3.12/site-packages (from chromadb) (0.7.3)\n",
      "Requirement already satisfied: fastapi>=0.95.2 in /home/anj/miniconda3/envs/hashalg/lib/python3.12/site-packages (from chromadb) (0.111.0)\n",
      "Requirement already satisfied: uvicorn>=0.18.3 in /home/anj/miniconda3/envs/hashalg/lib/python3.12/site-packages (from uvicorn[standard]>=0.18.3->chromadb) (0.30.1)\n",
      "Requirement already satisfied: posthog>=2.4.0 in /home/anj/miniconda3/envs/hashalg/lib/python3.12/site-packages (from chromadb) (3.5.0)\n",
      "Requirement already satisfied: typing-extensions>=4.5.0 in /home/anj/miniconda3/envs/hashalg/lib/python3.12/site-packages (from chromadb) (4.12.2)\n",
      "Requirement already satisfied: onnxruntime>=1.14.1 in /home/anj/miniconda3/envs/hashalg/lib/python3.12/site-packages (from chromadb) (1.18.0)\n",
      "Requirement already satisfied: opentelemetry-api>=1.2.0 in /home/anj/miniconda3/envs/hashalg/lib/python3.12/site-packages (from chromadb) (1.25.0)\n",
      "Requirement already satisfied: opentelemetry-exporter-otlp-proto-grpc>=1.2.0 in /home/anj/miniconda3/envs/hashalg/lib/python3.12/site-packages (from chromadb) (1.25.0)\n",
      "Requirement already satisfied: opentelemetry-instrumentation-fastapi>=0.41b0 in /home/anj/miniconda3/envs/hashalg/lib/python3.12/site-packages (from chromadb) (0.46b0)\n",
      "Requirement already satisfied: opentelemetry-sdk>=1.2.0 in /home/anj/miniconda3/envs/hashalg/lib/python3.12/site-packages (from chromadb) (1.25.0)\n",
      "Requirement already satisfied: tokenizers>=0.13.2 in /home/anj/miniconda3/envs/hashalg/lib/python3.12/site-packages (from chromadb) (0.19.1)\n",
      "Requirement already satisfied: pypika>=0.48.9 in /home/anj/miniconda3/envs/hashalg/lib/python3.12/site-packages (from chromadb) (0.48.9)\n",
      "Requirement already satisfied: tqdm>=4.65.0 in /home/anj/miniconda3/envs/hashalg/lib/python3.12/site-packages (from chromadb) (4.66.4)\n",
      "Requirement already satisfied: overrides>=7.3.1 in /home/anj/miniconda3/envs/hashalg/lib/python3.12/site-packages (from chromadb) (7.7.0)\n",
      "Requirement already satisfied: importlib-resources in /home/anj/miniconda3/envs/hashalg/lib/python3.12/site-packages (from chromadb) (6.4.0)\n",
      "Requirement already satisfied: grpcio>=1.58.0 in /home/anj/miniconda3/envs/hashalg/lib/python3.12/site-packages (from chromadb) (1.64.1)\n",
      "Requirement already satisfied: bcrypt>=4.0.1 in /home/anj/miniconda3/envs/hashalg/lib/python3.12/site-packages (from chromadb) (4.1.3)\n",
      "Requirement already satisfied: typer>=0.9.0 in /home/anj/miniconda3/envs/hashalg/lib/python3.12/site-packages (from chromadb) (0.12.3)\n",
      "Requirement already satisfied: kubernetes>=28.1.0 in /home/anj/miniconda3/envs/hashalg/lib/python3.12/site-packages (from chromadb) (30.1.0)\n",
      "Requirement already satisfied: mmh3>=4.0.1 in /home/anj/miniconda3/envs/hashalg/lib/python3.12/site-packages (from chromadb) (4.1.0)\n",
      "Requirement already satisfied: orjson>=3.9.12 in /home/anj/miniconda3/envs/hashalg/lib/python3.12/site-packages (from chromadb) (3.10.5)\n",
      "Requirement already satisfied: httpx>=0.27.0 in /home/anj/miniconda3/envs/hashalg/lib/python3.12/site-packages (from chromadb) (0.27.0)\n",
      "Requirement already satisfied: langchain-text-splitters<0.3.0,>=0.2.0 in /home/anj/miniconda3/envs/hashalg/lib/python3.12/site-packages (from langchain) (0.2.2)\n",
      "Requirement already satisfied: aiosignal>=1.1.2 in /home/anj/miniconda3/envs/hashalg/lib/python3.12/site-packages (from aiohttp<4.0.0,>=3.8.3->langchain_community) (1.3.1)\n",
      "Requirement already satisfied: attrs>=17.3.0 in /home/anj/miniconda3/envs/hashalg/lib/python3.12/site-packages (from aiohttp<4.0.0,>=3.8.3->langchain_community) (23.2.0)\n",
      "Requirement already satisfied: frozenlist>=1.1.1 in /home/anj/miniconda3/envs/hashalg/lib/python3.12/site-packages (from aiohttp<4.0.0,>=3.8.3->langchain_community) (1.4.1)\n",
      "Requirement already satisfied: multidict<7.0,>=4.5 in /home/anj/miniconda3/envs/hashalg/lib/python3.12/site-packages (from aiohttp<4.0.0,>=3.8.3->langchain_community) (6.0.5)\n",
      "Requirement already satisfied: yarl<2.0,>=1.0 in /home/anj/miniconda3/envs/hashalg/lib/python3.12/site-packages (from aiohttp<4.0.0,>=3.8.3->langchain_community) (1.9.4)\n",
      "Requirement already satisfied: pyproject_hooks in /home/anj/miniconda3/envs/hashalg/lib/python3.12/site-packages (from build>=1.0.3->chromadb) (1.1.0)\n",
      "Requirement already satisfied: marshmallow<4.0.0,>=3.18.0 in /home/anj/miniconda3/envs/hashalg/lib/python3.12/site-packages (from dataclasses-json<0.7,>=0.5.7->langchain_community) (3.21.3)\n",
      "Requirement already satisfied: typing-inspect<1,>=0.4.0 in /home/anj/miniconda3/envs/hashalg/lib/python3.12/site-packages (from dataclasses-json<0.7,>=0.5.7->langchain_community) (0.9.0)\n",
      "Requirement already satisfied: starlette<0.38.0,>=0.37.2 in /home/anj/miniconda3/envs/hashalg/lib/python3.12/site-packages (from fastapi>=0.95.2->chromadb) (0.37.2)\n",
      "Requirement already satisfied: fastapi-cli>=0.0.2 in /home/anj/miniconda3/envs/hashalg/lib/python3.12/site-packages (from fastapi>=0.95.2->chromadb) (0.0.4)\n",
      "Requirement already satisfied: jinja2>=2.11.2 in /home/anj/miniconda3/envs/hashalg/lib/python3.12/site-packages (from fastapi>=0.95.2->chromadb) (3.1.4)\n",
      "Requirement already satisfied: python-multipart>=0.0.7 in /home/anj/miniconda3/envs/hashalg/lib/python3.12/site-packages (from fastapi>=0.95.2->chromadb) (0.0.9)\n",
      "Requirement already satisfied: ujson!=4.0.2,!=4.1.0,!=4.2.0,!=4.3.0,!=5.0.0,!=5.1.0,>=4.0.1 in /home/anj/miniconda3/envs/hashalg/lib/python3.12/site-packages (from fastapi>=0.95.2->chromadb) (5.10.0)\n",
      "Requirement already satisfied: email_validator>=2.0.0 in /home/anj/miniconda3/envs/hashalg/lib/python3.12/site-packages (from fastapi>=0.95.2->chromadb) (2.2.0)\n",
      "Requirement already satisfied: anyio in /home/anj/miniconda3/envs/hashalg/lib/python3.12/site-packages (from httpx>=0.27.0->chromadb) (4.4.0)\n",
      "Requirement already satisfied: certifi in /home/anj/miniconda3/envs/hashalg/lib/python3.12/site-packages (from httpx>=0.27.0->chromadb) (2024.7.4)\n",
      "Requirement already satisfied: httpcore==1.* in /home/anj/miniconda3/envs/hashalg/lib/python3.12/site-packages (from httpx>=0.27.0->chromadb) (1.0.5)\n",
      "Requirement already satisfied: idna in /home/anj/miniconda3/envs/hashalg/lib/python3.12/site-packages (from httpx>=0.27.0->chromadb) (3.7)\n",
      "Requirement already satisfied: sniffio in /home/anj/miniconda3/envs/hashalg/lib/python3.12/site-packages (from httpx>=0.27.0->chromadb) (1.3.1)\n",
      "Requirement already satisfied: h11<0.15,>=0.13 in /home/anj/miniconda3/envs/hashalg/lib/python3.12/site-packages (from httpcore==1.*->httpx>=0.27.0->chromadb) (0.14.0)\n",
      "Requirement already satisfied: six>=1.9.0 in /home/anj/miniconda3/envs/hashalg/lib/python3.12/site-packages (from kubernetes>=28.1.0->chromadb) (1.16.0)\n",
      "Requirement already satisfied: python-dateutil>=2.5.3 in /home/anj/miniconda3/envs/hashalg/lib/python3.12/site-packages (from kubernetes>=28.1.0->chromadb) (2.9.0)\n",
      "Requirement already satisfied: google-auth>=1.0.1 in /home/anj/miniconda3/envs/hashalg/lib/python3.12/site-packages (from kubernetes>=28.1.0->chromadb) (2.30.0)\n",
      "Requirement already satisfied: websocket-client!=0.40.0,!=0.41.*,!=0.42.*,>=0.32.0 in /home/anj/miniconda3/envs/hashalg/lib/python3.12/site-packages (from kubernetes>=28.1.0->chromadb) (1.8.0)\n",
      "Requirement already satisfied: requests-oauthlib in /home/anj/miniconda3/envs/hashalg/lib/python3.12/site-packages (from kubernetes>=28.1.0->chromadb) (2.0.0)\n",
      "Requirement already satisfied: oauthlib>=3.2.2 in /home/anj/miniconda3/envs/hashalg/lib/python3.12/site-packages (from kubernetes>=28.1.0->chromadb) (3.2.2)\n",
      "Requirement already satisfied: urllib3>=1.24.2 in /home/anj/miniconda3/envs/hashalg/lib/python3.12/site-packages (from kubernetes>=28.1.0->chromadb) (2.2.2)\n",
      "Requirement already satisfied: jsonpatch<2.0,>=1.33 in /home/anj/miniconda3/envs/hashalg/lib/python3.12/site-packages (from langchain-core<0.3.0,>=0.2.10->langchain_community) (1.33)\n",
      "Requirement already satisfied: coloredlogs in /home/anj/miniconda3/envs/hashalg/lib/python3.12/site-packages (from onnxruntime>=1.14.1->chromadb) (15.0.1)\n",
      "Requirement already satisfied: flatbuffers in /home/anj/miniconda3/envs/hashalg/lib/python3.12/site-packages (from onnxruntime>=1.14.1->chromadb) (24.3.25)\n",
      "Requirement already satisfied: protobuf in /home/anj/miniconda3/envs/hashalg/lib/python3.12/site-packages (from onnxruntime>=1.14.1->chromadb) (4.25.3)\n",
      "Requirement already satisfied: sympy in /home/anj/miniconda3/envs/hashalg/lib/python3.12/site-packages (from onnxruntime>=1.14.1->chromadb) (1.12.1)\n",
      "Requirement already satisfied: distro<2,>=1.7.0 in /home/anj/miniconda3/envs/hashalg/lib/python3.12/site-packages (from openai<2.0.0,>=1.26.0->langchain-openai) (1.9.0)\n",
      "Requirement already satisfied: deprecated>=1.2.6 in /home/anj/miniconda3/envs/hashalg/lib/python3.12/site-packages (from opentelemetry-api>=1.2.0->chromadb) (1.2.14)\n",
      "Requirement already satisfied: importlib-metadata<=7.1,>=6.0 in /home/anj/miniconda3/envs/hashalg/lib/python3.12/site-packages (from opentelemetry-api>=1.2.0->chromadb) (7.1.0)\n",
      "Requirement already satisfied: googleapis-common-protos~=1.52 in /home/anj/miniconda3/envs/hashalg/lib/python3.12/site-packages (from opentelemetry-exporter-otlp-proto-grpc>=1.2.0->chromadb) (1.63.2)\n",
      "Requirement already satisfied: opentelemetry-exporter-otlp-proto-common==1.25.0 in /home/anj/miniconda3/envs/hashalg/lib/python3.12/site-packages (from opentelemetry-exporter-otlp-proto-grpc>=1.2.0->chromadb) (1.25.0)\n",
      "Requirement already satisfied: opentelemetry-proto==1.25.0 in /home/anj/miniconda3/envs/hashalg/lib/python3.12/site-packages (from opentelemetry-exporter-otlp-proto-grpc>=1.2.0->chromadb) (1.25.0)\n",
      "Requirement already satisfied: opentelemetry-instrumentation-asgi==0.46b0 in /home/anj/miniconda3/envs/hashalg/lib/python3.12/site-packages (from opentelemetry-instrumentation-fastapi>=0.41b0->chromadb) (0.46b0)\n",
      "Requirement already satisfied: opentelemetry-instrumentation==0.46b0 in /home/anj/miniconda3/envs/hashalg/lib/python3.12/site-packages (from opentelemetry-instrumentation-fastapi>=0.41b0->chromadb) (0.46b0)\n",
      "Requirement already satisfied: opentelemetry-semantic-conventions==0.46b0 in /home/anj/miniconda3/envs/hashalg/lib/python3.12/site-packages (from opentelemetry-instrumentation-fastapi>=0.41b0->chromadb) (0.46b0)\n",
      "Requirement already satisfied: opentelemetry-util-http==0.46b0 in /home/anj/miniconda3/envs/hashalg/lib/python3.12/site-packages (from opentelemetry-instrumentation-fastapi>=0.41b0->chromadb) (0.46b0)\n",
      "Requirement already satisfied: setuptools>=16.0 in /home/anj/miniconda3/envs/hashalg/lib/python3.12/site-packages (from opentelemetry-instrumentation==0.46b0->opentelemetry-instrumentation-fastapi>=0.41b0->chromadb) (69.5.1)\n",
      "Requirement already satisfied: wrapt<2.0.0,>=1.0.0 in /home/anj/miniconda3/envs/hashalg/lib/python3.12/site-packages (from opentelemetry-instrumentation==0.46b0->opentelemetry-instrumentation-fastapi>=0.41b0->chromadb) (1.16.0)\n",
      "Requirement already satisfied: asgiref~=3.0 in /home/anj/miniconda3/envs/hashalg/lib/python3.12/site-packages (from opentelemetry-instrumentation-asgi==0.46b0->opentelemetry-instrumentation-fastapi>=0.41b0->chromadb) (3.8.1)\n",
      "Requirement already satisfied: monotonic>=1.5 in /home/anj/miniconda3/envs/hashalg/lib/python3.12/site-packages (from posthog>=2.4.0->chromadb) (1.6)\n",
      "Requirement already satisfied: backoff>=1.10.0 in /home/anj/miniconda3/envs/hashalg/lib/python3.12/site-packages (from posthog>=2.4.0->chromadb) (2.2.1)\n",
      "Requirement already satisfied: annotated-types>=0.4.0 in /home/anj/miniconda3/envs/hashalg/lib/python3.12/site-packages (from pydantic>=1.9->chromadb) (0.7.0)\n",
      "Requirement already satisfied: pydantic-core==2.18.4 in /home/anj/miniconda3/envs/hashalg/lib/python3.12/site-packages (from pydantic>=1.9->chromadb) (2.18.4)\n",
      "Requirement already satisfied: charset-normalizer<4,>=2 in /home/anj/miniconda3/envs/hashalg/lib/python3.12/site-packages (from requests<3,>=2->langchain_community) (3.3.2)\n",
      "Requirement already satisfied: greenlet!=0.4.17 in /home/anj/miniconda3/envs/hashalg/lib/python3.12/site-packages (from SQLAlchemy<3,>=1.4->langchain_community) (3.0.3)\n",
      "Requirement already satisfied: huggingface-hub<1.0,>=0.16.4 in /home/anj/miniconda3/envs/hashalg/lib/python3.12/site-packages (from tokenizers>=0.13.2->chromadb) (0.23.4)\n",
      "Requirement already satisfied: click>=8.0.0 in /home/anj/miniconda3/envs/hashalg/lib/python3.12/site-packages (from typer>=0.9.0->chromadb) (8.1.7)\n",
      "Requirement already satisfied: shellingham>=1.3.0 in /home/anj/miniconda3/envs/hashalg/lib/python3.12/site-packages (from typer>=0.9.0->chromadb) (1.5.4)\n",
      "Requirement already satisfied: rich>=10.11.0 in /home/anj/miniconda3/envs/hashalg/lib/python3.12/site-packages (from typer>=0.9.0->chromadb) (13.7.1)\n",
      "Requirement already satisfied: httptools>=0.5.0 in /home/anj/miniconda3/envs/hashalg/lib/python3.12/site-packages (from uvicorn[standard]>=0.18.3->chromadb) (0.6.1)\n",
      "Requirement already satisfied: python-dotenv>=0.13 in /home/anj/miniconda3/envs/hashalg/lib/python3.12/site-packages (from uvicorn[standard]>=0.18.3->chromadb) (1.0.1)\n",
      "Requirement already satisfied: uvloop!=0.15.0,!=0.15.1,>=0.14.0 in /home/anj/miniconda3/envs/hashalg/lib/python3.12/site-packages (from uvicorn[standard]>=0.18.3->chromadb) (0.19.0)\n",
      "Requirement already satisfied: watchfiles>=0.13 in /home/anj/miniconda3/envs/hashalg/lib/python3.12/site-packages (from uvicorn[standard]>=0.18.3->chromadb) (0.22.0)\n",
      "Requirement already satisfied: websockets>=10.4 in /home/anj/miniconda3/envs/hashalg/lib/python3.12/site-packages (from uvicorn[standard]>=0.18.3->chromadb) (12.0)\n",
      "Requirement already satisfied: dnspython>=2.0.0 in /home/anj/miniconda3/envs/hashalg/lib/python3.12/site-packages (from email_validator>=2.0.0->fastapi>=0.95.2->chromadb) (2.6.1)\n",
      "Requirement already satisfied: cachetools<6.0,>=2.0.0 in /home/anj/miniconda3/envs/hashalg/lib/python3.12/site-packages (from google-auth>=1.0.1->kubernetes>=28.1.0->chromadb) (5.3.3)\n",
      "Requirement already satisfied: pyasn1-modules>=0.2.1 in /home/anj/miniconda3/envs/hashalg/lib/python3.12/site-packages (from google-auth>=1.0.1->kubernetes>=28.1.0->chromadb) (0.4.0)\n",
      "Requirement already satisfied: rsa<5,>=3.1.4 in /home/anj/miniconda3/envs/hashalg/lib/python3.12/site-packages (from google-auth>=1.0.1->kubernetes>=28.1.0->chromadb) (4.9)\n",
      "Requirement already satisfied: filelock in /home/anj/miniconda3/envs/hashalg/lib/python3.12/site-packages (from huggingface-hub<1.0,>=0.16.4->tokenizers>=0.13.2->chromadb) (3.15.4)\n",
      "Requirement already satisfied: fsspec>=2023.5.0 in /home/anj/miniconda3/envs/hashalg/lib/python3.12/site-packages (from huggingface-hub<1.0,>=0.16.4->tokenizers>=0.13.2->chromadb) (2024.6.0)\n",
      "Requirement already satisfied: zipp>=0.5 in /home/anj/miniconda3/envs/hashalg/lib/python3.12/site-packages (from importlib-metadata<=7.1,>=6.0->opentelemetry-api>=1.2.0->chromadb) (3.20.0)\n",
      "Requirement already satisfied: MarkupSafe>=2.0 in /home/anj/miniconda3/envs/hashalg/lib/python3.12/site-packages (from jinja2>=2.11.2->fastapi>=0.95.2->chromadb) (2.1.3)\n",
      "Requirement already satisfied: jsonpointer>=1.9 in /home/anj/miniconda3/envs/hashalg/lib/python3.12/site-packages (from jsonpatch<2.0,>=1.33->langchain-core<0.3.0,>=0.2.10->langchain_community) (3.0.0)\n",
      "Requirement already satisfied: markdown-it-py>=2.2.0 in /home/anj/miniconda3/envs/hashalg/lib/python3.12/site-packages (from rich>=10.11.0->typer>=0.9.0->chromadb) (3.0.0)\n",
      "Requirement already satisfied: pygments<3.0.0,>=2.13.0 in /home/anj/miniconda3/envs/hashalg/lib/python3.12/site-packages (from rich>=10.11.0->typer>=0.9.0->chromadb) (2.18.0)\n",
      "Requirement already satisfied: mypy-extensions>=0.3.0 in /home/anj/miniconda3/envs/hashalg/lib/python3.12/site-packages (from typing-inspect<1,>=0.4.0->dataclasses-json<0.7,>=0.5.7->langchain_community) (1.0.0)\n",
      "Requirement already satisfied: humanfriendly>=9.1 in /home/anj/miniconda3/envs/hashalg/lib/python3.12/site-packages (from coloredlogs->onnxruntime>=1.14.1->chromadb) (10.0)\n",
      "Requirement already satisfied: mpmath<1.4.0,>=1.1.0 in /home/anj/miniconda3/envs/hashalg/lib/python3.12/site-packages (from sympy->onnxruntime>=1.14.1->chromadb) (1.3.0)\n",
      "Requirement already satisfied: mdurl~=0.1 in /home/anj/miniconda3/envs/hashalg/lib/python3.12/site-packages (from markdown-it-py>=2.2.0->rich>=10.11.0->typer>=0.9.0->chromadb) (0.1.2)\n",
      "Requirement already satisfied: pyasn1<0.7.0,>=0.4.6 in /home/anj/miniconda3/envs/hashalg/lib/python3.12/site-packages (from pyasn1-modules>=0.2.1->google-auth>=1.0.1->kubernetes>=28.1.0->chromadb) (0.6.0)\n",
      "\u001b[33mWARNING: Skipping /home/anj/miniconda3/envs/hashalg/lib/python3.12/site-packages/jupyter-1.0.0.dist-info due to invalid metadata entry 'name'\u001b[0m\u001b[33m\n",
      "\u001b[0m\u001b[33mWARNING: Skipping /home/anj/miniconda3/envs/hashalg/lib/python3.12/site-packages/jupyter-1.0.0.dist-info due to invalid metadata entry 'name'\u001b[0m\u001b[33m\n",
      "\u001b[0m\u001b[33mWARNING: Skipping /home/anj/miniconda3/envs/hashalg/lib/python3.12/site-packages/jupyter-1.0.0.dist-info due to invalid metadata entry 'name'\u001b[0m\u001b[33m\n",
      "\u001b[0m"
     ]
    }
   ],
   "source": [
    "! pip install langchain_community tiktoken langchain-openai langchainhub chromadb langchain"
   ]
  },
  {
   "cell_type": "code",
   "execution_count": 9,
   "id": "3fb9c753",
   "metadata": {},
   "outputs": [],
   "source": [
    "from langchain_community.vectorstores import Chroma\n",
    "from langchain_openai import ChatOpenAI, OpenAIEmbeddings\n",
    "\n",
    "\n",
    "# Embed\n",
    "vectorstore = Chroma.from_documents(documents=chunks, \n",
    "                                    embedding=OpenAIEmbeddings())\n",
    "\n",
    "retriever = vectorstore.as_retriever(search_kwargs={\"k\": 5})\n"
   ]
  },
  {
   "cell_type": "code",
   "execution_count": 10,
   "id": "ef7a3048",
   "metadata": {},
   "outputs": [
    {
     "name": "stdout",
     "output_type": "stream",
     "text": [
      "input_variables=['context', 'question'] template='You are an assistant for question-answering tasks.\\n            Use the following pieces of retrieved context to answer the question.\\n            If you don\\'t know the answer, just say that you don\\'t know. Use three sentence \\n            maximum and keep the answer concise. \\nQuestion: {question}\\nContext: {context}\"\\n\\n'\n"
     ]
    }
   ],
   "source": [
    "from langchain import PromptTemplate\n",
    "\n",
    "template = \"\"\"You are an assistant for question-answering tasks.\n",
    "            Use the following pieces of retrieved context to answer the question.\n",
    "            If you don't know the answer, just say that you don't know. Use three sentence \n",
    "            maximum and keep the answer concise. \n",
    "Question: {question}\n",
    "Context: {context}\"\\n\n",
    "\"\"\"\n",
    "\n",
    "prompt = PromptTemplate(\n",
    "     template = template,\n",
    "     input_variables = [\"context\",\"question\"]\n",
    ")\n",
    "print(prompt)"
   ]
  },
  {
   "cell_type": "markdown",
   "id": "7dfc489c",
   "metadata": {},
   "source": [
    "**Generate**"
   ]
  },
  {
   "cell_type": "code",
   "execution_count": 11,
   "id": "3af862ae",
   "metadata": {},
   "outputs": [],
   "source": [
    "from langchain_core.output_parsers import StrOutputParser\n",
    "from langchain.schema.runnable import RunnablePassthrough\n",
    "from langchain_core.prompts import ChatPromptTemplate\n",
    "from langchain_openai import ChatOpenAI"
   ]
  },
  {
   "cell_type": "code",
   "execution_count": 12,
   "id": "c9c0e450",
   "metadata": {},
   "outputs": [],
   "source": [
    "model = ChatOpenAI()\n",
    "output_parser = StrOutputParser()\n",
    "\n",
    "rag_chain = (\n",
    "    {\"context\": retriever, \"question\": RunnablePassthrough()}\n",
    "     |prompt \n",
    "     | model \n",
    "     | output_parser\n",
    ")\n",
    "#chain.invoke({\"topic\": \"Melbourne\"})"
   ]
  },
  {
   "cell_type": "code",
   "execution_count": 13,
   "id": "ac3bf810",
   "metadata": {},
   "outputs": [
    {
     "name": "stdout",
     "output_type": "stream",
     "text": [
      "\u001b[33mWARNING: Skipping /home/anj/miniconda3/envs/hashalg/lib/python3.12/site-packages/jupyter-1.0.0.dist-info due to invalid metadata entry 'name'\u001b[0m\u001b[33m\n",
      "\u001b[0mRequirement already satisfied: datasets in /home/anj/miniconda3/envs/hashalg/lib/python3.12/site-packages (2.21.0)\n",
      "Requirement already satisfied: filelock in /home/anj/miniconda3/envs/hashalg/lib/python3.12/site-packages (from datasets) (3.15.4)\n",
      "Requirement already satisfied: numpy>=1.17 in /home/anj/miniconda3/envs/hashalg/lib/python3.12/site-packages (from datasets) (1.26.4)\n",
      "Requirement already satisfied: pyarrow>=15.0.0 in /home/anj/miniconda3/envs/hashalg/lib/python3.12/site-packages (from datasets) (17.0.0)\n",
      "Requirement already satisfied: dill<0.3.9,>=0.3.0 in /home/anj/miniconda3/envs/hashalg/lib/python3.12/site-packages (from datasets) (0.3.8)\n",
      "Requirement already satisfied: pandas in /home/anj/miniconda3/envs/hashalg/lib/python3.12/site-packages (from datasets) (2.2.2)\n",
      "Requirement already satisfied: requests>=2.32.2 in /home/anj/miniconda3/envs/hashalg/lib/python3.12/site-packages (from datasets) (2.32.3)\n",
      "Requirement already satisfied: tqdm>=4.66.3 in /home/anj/miniconda3/envs/hashalg/lib/python3.12/site-packages (from datasets) (4.66.4)\n",
      "Requirement already satisfied: xxhash in /home/anj/miniconda3/envs/hashalg/lib/python3.12/site-packages (from datasets) (3.4.1)\n",
      "Requirement already satisfied: multiprocess in /home/anj/miniconda3/envs/hashalg/lib/python3.12/site-packages (from datasets) (0.70.16)\n",
      "Requirement already satisfied: fsspec<=2024.6.1,>=2023.1.0 in /home/anj/miniconda3/envs/hashalg/lib/python3.12/site-packages (from fsspec[http]<=2024.6.1,>=2023.1.0->datasets) (2024.6.0)\n",
      "Requirement already satisfied: aiohttp in /home/anj/miniconda3/envs/hashalg/lib/python3.12/site-packages (from datasets) (3.9.5)\n",
      "Requirement already satisfied: huggingface-hub>=0.21.2 in /home/anj/miniconda3/envs/hashalg/lib/python3.12/site-packages (from datasets) (0.23.4)\n",
      "Requirement already satisfied: packaging in /home/anj/miniconda3/envs/hashalg/lib/python3.12/site-packages (from datasets) (24.1)\n",
      "Requirement already satisfied: pyyaml>=5.1 in /home/anj/miniconda3/envs/hashalg/lib/python3.12/site-packages (from datasets) (6.0.1)\n",
      "Requirement already satisfied: aiosignal>=1.1.2 in /home/anj/miniconda3/envs/hashalg/lib/python3.12/site-packages (from aiohttp->datasets) (1.3.1)\n",
      "Requirement already satisfied: attrs>=17.3.0 in /home/anj/miniconda3/envs/hashalg/lib/python3.12/site-packages (from aiohttp->datasets) (23.2.0)\n",
      "Requirement already satisfied: frozenlist>=1.1.1 in /home/anj/miniconda3/envs/hashalg/lib/python3.12/site-packages (from aiohttp->datasets) (1.4.1)\n",
      "Requirement already satisfied: multidict<7.0,>=4.5 in /home/anj/miniconda3/envs/hashalg/lib/python3.12/site-packages (from aiohttp->datasets) (6.0.5)\n",
      "Requirement already satisfied: yarl<2.0,>=1.0 in /home/anj/miniconda3/envs/hashalg/lib/python3.12/site-packages (from aiohttp->datasets) (1.9.4)\n",
      "Requirement already satisfied: typing-extensions>=3.7.4.3 in /home/anj/miniconda3/envs/hashalg/lib/python3.12/site-packages (from huggingface-hub>=0.21.2->datasets) (4.12.2)\n",
      "Requirement already satisfied: charset-normalizer<4,>=2 in /home/anj/miniconda3/envs/hashalg/lib/python3.12/site-packages (from requests>=2.32.2->datasets) (3.3.2)\n",
      "Requirement already satisfied: idna<4,>=2.5 in /home/anj/miniconda3/envs/hashalg/lib/python3.12/site-packages (from requests>=2.32.2->datasets) (3.7)\n",
      "Requirement already satisfied: urllib3<3,>=1.21.1 in /home/anj/miniconda3/envs/hashalg/lib/python3.12/site-packages (from requests>=2.32.2->datasets) (2.2.2)\n",
      "Requirement already satisfied: certifi>=2017.4.17 in /home/anj/miniconda3/envs/hashalg/lib/python3.12/site-packages (from requests>=2.32.2->datasets) (2024.7.4)\n",
      "Requirement already satisfied: python-dateutil>=2.8.2 in /home/anj/miniconda3/envs/hashalg/lib/python3.12/site-packages (from pandas->datasets) (2.9.0)\n",
      "Requirement already satisfied: pytz>=2020.1 in /home/anj/miniconda3/envs/hashalg/lib/python3.12/site-packages (from pandas->datasets) (2024.1)\n",
      "Requirement already satisfied: tzdata>=2022.7 in /home/anj/miniconda3/envs/hashalg/lib/python3.12/site-packages (from pandas->datasets) (2024.1)\n",
      "Requirement already satisfied: six>=1.5 in /home/anj/miniconda3/envs/hashalg/lib/python3.12/site-packages (from python-dateutil>=2.8.2->pandas->datasets) (1.16.0)\n",
      "\u001b[33mWARNING: Skipping /home/anj/miniconda3/envs/hashalg/lib/python3.12/site-packages/jupyter-1.0.0.dist-info due to invalid metadata entry 'name'\u001b[0m\u001b[33m\n",
      "\u001b[0m\u001b[33mWARNING: Skipping /home/anj/miniconda3/envs/hashalg/lib/python3.12/site-packages/jupyter-1.0.0.dist-info due to invalid metadata entry 'name'\u001b[0m\u001b[33m\n",
      "\u001b[0m\u001b[33mWARNING: Skipping /home/anj/miniconda3/envs/hashalg/lib/python3.12/site-packages/jupyter-1.0.0.dist-info due to invalid metadata entry 'name'\u001b[0m\u001b[33m\n",
      "\u001b[0mNote: you may need to restart the kernel to use updated packages.\n"
     ]
    }
   ],
   "source": [
    "pip install datasets\n"
   ]
  },
  {
   "cell_type": "code",
   "execution_count": 14,
   "id": "174f7d15",
   "metadata": {},
   "outputs": [
    {
     "name": "stderr",
     "output_type": "stream",
     "text": [
      "/home/anj/miniconda3/envs/hashalg/lib/python3.12/site-packages/tqdm/auto.py:21: TqdmWarning: IProgress not found. Please update jupyter and ipywidgets. See https://ipywidgets.readthedocs.io/en/stable/user_install.html\n",
      "  from .autonotebook import tqdm as notebook_tqdm\n",
      "/home/anj/miniconda3/envs/hashalg/lib/python3.12/site-packages/langchain_core/_api/deprecation.py:139: LangChainDeprecationWarning: The method `BaseRetriever.get_relevant_documents` was deprecated in langchain-core 0.1.46 and will be removed in 0.3.0. Use invoke instead.\n",
      "  warn_deprecated(\n"
     ]
    }
   ],
   "source": [
    "\n",
    "#from datasets import Dataset\n",
    "from datasets import Dataset, Features, Sequence, Value\n",
    "\n",
    "\n",
    "questions = [\"What university did Yau work at?\", \"Who is Perelman?\", \"What is Poincare conjecture?\"]\n",
    "ground_truths = ['Yau is a Professor of mathematics at Harvard.','Perelman is a mathematician', \"century-old conundrum about the characteristics of three-dimensional spheres,\"]\n",
    "\n",
    "answers = []\n",
    "contexts= []\n",
    "\n",
    "#Inference\n",
    "for query in questions:\n",
    "    answers.append(rag_chain.invoke(query))\n",
    "    # for docs in retriever.get_relevant_documents(query):\n",
    "    #     contexts.append([docs.page_content])\n",
    "    contexts.append([docs.page_content for docs in retriever.get_relevant_documents(query)])\n",
    "# To dict\n",
    "data = {\n",
    "    \"question\": questions,\n",
    "    \"answer\": answers,\n",
    "    \"contexts\":contexts,\n",
    "    \"ground_truth\": ground_truths\n",
    "    \n",
    "}\n",
    "\n",
    "#Convert dict to dataset \n",
    "#dataset \n",
    "\n"
   ]
  },
  {
   "cell_type": "code",
   "execution_count": 15,
   "id": "d401e268-3ae3-48d0-8728-a38a76c41b23",
   "metadata": {},
   "outputs": [
    {
     "data": {
      "text/plain": [
       "{'question': ['What university did Yau work at?',\n",
       "  'Who is Perelman?',\n",
       "  'What is Poincare conjecture?'],\n",
       " 'answer': ['Yau worked as a professor of mathematics at Harvard University.',\n",
       "  'Perelman is a mathematician known for his work on the Poincaré conjecture. He is reclusive, left his job at the Steklov Institute of Mathematics, and lives in St. Petersburg with his mother. Perelman became widely recognized for his work on geometric spaces and his approach to problem-solving in mathematics.',\n",
       "  'The Poincaré conjecture was proposed by Henri Poincaré over a hundred years ago and remained unsolved for many years. It was finally proven in all dimensions except the third by 1982. The Clay Mathematics Institute named it one of the seven most important outstanding problems in mathematics in 2000.'],\n",
       " 'contexts': [['Yau studied math at the Chinese University of Hong Kong, where he attracted the attention of Shiing-Shen Chern, the preëminent Chinese mathematician, who helped him win a scholarship to the University of California at Berkeley. Chern was the author of a famous theorem combining topology and geometry. He spent most of his career in the United States, at Berkeley. He made frequent visits to Hong Kong, Taiwan, and, later, China, where he was a revered symbol of Chinese intellectual achievement, to promote the study of math and science.',\n",
       "   'The following summer, Yau returned to China and, in a series of interviews with Chinese reporters, attacked Tian and the mathematicians at Peking University. In an article published in a Beijing science newspaper, which ran under the headline “\\nSHING-TUNG YAU IS SLAMMING ACADEMIC CORRUPTION IN CHINA',\n",
       "   'Yau was caught by surprise. In March, 2000, he had published a survey of recent research in his field studded with glowing references to Tian and to their joint projects. He retaliated by organizing his first conference on string theory, which opened in Beijing a few days before the math congress began, in late August, 2002. He persuaded Stephen Hawking and several Nobel laureates to attend, and for days the Chinese newspapers were full of pictures of famous scientists. Yau even managed to arrange for his group to have an audience with Jiang Zemin. A mathematician who helped organize the math congress recalls that along the highway between Beijing and the airport there were “billboards with pictures of Stephen Hawking plastered everywhere.”',\n",
       "   'Yau had since become a professor of mathematics at Harvard and the director of mathematics institutes in Beijing and Hong Kong, dividing his time between the United States and China. His lecture at the Friendship Hotel was part of an international conference on string theory, which he had organized with the support of the Chinese government, in part to promote the country’s recent advances in theoretical physics. (More than six thousand students attended the keynote address, which was delivered by Yau’s close friend Stephen Hawking, in the Great Hall of the People.) The subject of Yau’s talk was something that few in his audience knew much about: the Poincaré conjecture, a century-old conundrum about the characteristics of three-dimensional spheres, which, because it has important implications for mathematics and cosmology and because it has eluded all attempts at solution, is regarded by mathematicians as a holy grail.',\n",
       "   'When Yau was fourteen, his father died of kidney cancer, leaving his mother dependent on handouts from Christian missionaries and whatever small sums she earned from selling handicrafts. Until then, Yau had been an indifferent student. But he began to devote himself to schoolwork, tutoring other students in math to make money. “Part of the thing that drives Yau is that he sees his own life as being his father’s revenge,” said Dan Stroock, the M.I.T. mathematician, who has known Yau for twenty years. “Yau’s father was like the Talmudist whose children are starving.”'],\n",
       "  ['By the end of his first year at Berkeley, Perelman had written several strikingly original papers. He was asked to give a lecture at the 1994 I.M.U. congress, in Zurich, and invited to apply for jobs at Stanford, Princeton, the Institute for Advanced Study, and the University of Tel Aviv. Like Yau, Perelman was a formidable problem solver. Instead of spending years constructing an intricate theoretical framework, or defining new areas of research, he focussed on obtaining particular results. According to Mikhail Gromov, a renowned Russian geometer who has collaborated with Perelman, he had been trying to overcome a technical difficulty relating to Alexandrov spaces and had apparently been stumped. “He couldn’t do it,” Gromov said. “It was hopeless.”',\n",
       "   'At twenty-nine, Perelman was firmly established as a mathematician and yet largely unburdened by professional responsibilities. He was free to pursue whatever problems he wanted to, and he knew that his work, should he choose to publish it, would be shown serious consideration. Yakov Eliashberg, a mathematician at Stanford who knew Perelman at Berkeley, thinks that Perelman returned to Russia in order to work on the Poincaré. “Why not?” Perelman said when we asked whether Eliashberg’s hunch was correct.',\n",
       "   'Grigory Perelman is indeed reclusive. He left his job as a researcher at the Steklov Institute of Mathematics, in St. Petersburg, last December; he has few friends; and he lives with his mother in an apartment on the outskirts of the city. Although he had never granted an interview before, he was cordial and frank when we visited him, in late June, shortly after Yau’s conference in Beijing, taking us on a long walking tour of the city. “I’m looking for some friends, and they don’t have to be mathematicians,” he said. The week before the conference, Perelman had spent hours discussing the Poincaré conjecture with Sir John M. Ball, the fifty-eight-year-old president of the International Mathematical Union, the discipline’s influential professional association. The meeting, which took place at a conference center in a stately mansion overlooking the Neva River, was highly unusual. At the end of May, a committee of nine prominent mathematicians had voted to award Perelman a Fields Medal for his work on the Poincaré, and Ball had gone to St. Petersburg to persuade him to accept the prize in a public ceremony at the I.M.U.’s quadrennial congress, in Madrid, on August 22nd.',\n",
       "   'At the Steklov in the early nineties, Perelman became an expert on the geometry of Riemannian and Alexandrov spaces—extensions of traditional Euclidean geometry—and began to publish articles in the leading Russian and American mathematics journals. In 1992, Perelman was invited to spend a semester each at New York University and Stony Brook University. By the time he left for the United States, that fall, the Russian economy had collapsed. Dan Stroock, a mathematician at M.I.T., recalls smuggling wads of dollars into the country to deliver to a retired mathematician at the Steklov, who, like many of his colleagues, had become destitute.',\n",
       "   'We arranged to meet at ten the following morning on Nevsky Prospekt. From there, Perelman, dressed in a sports coat and loafers, took us on a four-hour walking tour of the city, commenting on every building and vista. After that, we all went to a vocal competition at the St. Petersburg Conservatory, which lasted for five hours. Perelman repeatedly said that he had retired from the mathematics community and no longer considered himself a professional mathematician. He mentioned a dispute that he had had years earlier with a collaborator over how to credit the author of a particular proof, and said that he was dismayed by the discipline’s lax ethics. “It is not people who break ethical standards who are regarded as aliens,” he said. “It is people like me who are isolated.” We asked him whether he had read Cao and Zhu’s paper. “It is not clear to me what new contribution did they make,” he said. “Apparently, Zhu did not quite understand the argument and reworked it.” As for Yau, Perelman said, “I can’t say I’m outraged. Other people do worse_._ Of course, there are many mathematicians who are more or less honest. But almost all of them are conformists. They are more or less honest, but they tolerate those who are not honest.”'],\n",
       "  ['Proofs of the Poincaré have been announced nearly every year since the conjecture was formulated, by Henri Poincaré, more than a hundred years ago. Poincaré was a cousin of Raymond Poincaré, the President of France during the First World War, and one of the most creative mathematicians of the nineteenth century. Slight, myopic, and notoriously absent-minded, he conceived his famous problem in 1904, eight years before he died, and tucked it as an offhand question into the end of a sixty-five-page paper.',\n",
       "   'By the nineteen-sixties, topology had become one of the most productive areas of mathematics, and young topologists were launching regular attacks on the Poincaré. To the astonishment of most mathematicians, it turned out that manifolds of the fourth, fifth, and higher dimensions were more tractable than those of the third dimension. By 1982, Poincaré’s conjecture had been proved in all dimensions except the third. In 2000, the Clay Mathematics Institute, a private foundation that promotes mathematical research, named the Poincaré one of the seven most important outstanding problems in mathematics and offered a million dollars to anyone who could prove it.',\n",
       "   '“My whole life as a mathematician has been dominated by the Poincaré conjecture,” John Morgan, the head of the mathematics department at Columbia University, said. “I never thought I’d see a solution. I thought nobody could touch it.”',\n",
       "   'Thurston proposed that every three-dimensional manifold could be broken down into one or more of eight types of component, including a spherical type. Thurston’s theory—which became known as the geometrization conjecture—describes all possible three-dimensional manifolds and is thus a powerful generalization of the Poincaré. If it was confirmed, then Poincaré’s conjecture would be, too. Proving Thurston and Poincaré “definitely swings open doors,” Barry Mazur, a mathematician at Harvard, said. The implications of the conjectures for other disciplines may not be apparent for years, but for mathematicians the problems are fundamental. “This is a kind of twentieth-century Pythagorean theorem,” Mazur added. “It changes the landscape.”',\n",
       "   'Yau, a stocky man of fifty-seven, stood at a lectern in shirtsleeves and black-rimmed glasses and, with his hands in his pockets, described how two of his students, Xi-Ping Zhu and Huai-Dong Cao, had completed a proof of the Poincaré conjecture a few weeks earlier. “I’m very positive about Zhu and Cao’s work,” Yau said. “Chinese mathematicians should have every reason to be proud of such a big success in completely solving the puzzle.” He said that Zhu and Cao were indebted to his longtime American collaborator Richard Hamilton, who deserved most of the credit for solving the Poincaré. He also mentioned Grigory Perelman, a Russian mathematician who, he acknowledged, had made an important contribution. Nevertheless, Yau said, “in Perelman’s work, spectacular as it is, many key ideas of the proofs are sketched or outlined, and complete details are often missing.” He added, “We would like to get Perelman to make comments. But Perelman resides in St. Petersburg and refuses to communicate with other people.”']],\n",
       " 'ground_truth': ['Yau is a Professor of mathematics at Harvard.',\n",
       "  'Perelman is a mathematician',\n",
       "  'century-old conundrum about the characteristics of three-dimensional spheres,']}"
      ]
     },
     "execution_count": 15,
     "metadata": {},
     "output_type": "execute_result"
    }
   ],
   "source": [
    "data"
   ]
  },
  {
   "cell_type": "code",
   "execution_count": 16,
   "id": "955e24f0",
   "metadata": {},
   "outputs": [],
   "source": [
    "dataset = Dataset.from_dict(data)"
   ]
  },
  {
   "cell_type": "code",
   "execution_count": 17,
   "id": "95f8b5a0",
   "metadata": {},
   "outputs": [
    {
     "data": {
      "text/plain": [
       "{'question': ['What university did Yau work at?',\n",
       "  'Who is Perelman?',\n",
       "  'What is Poincare conjecture?'],\n",
       " 'answer': ['Yau worked as a professor of mathematics at Harvard University.',\n",
       "  'Perelman is a mathematician known for his work on the Poincaré conjecture. He is reclusive, left his job at the Steklov Institute of Mathematics, and lives in St. Petersburg with his mother. Perelman became widely recognized for his work on geometric spaces and his approach to problem-solving in mathematics.',\n",
       "  'The Poincaré conjecture was proposed by Henri Poincaré over a hundred years ago and remained unsolved for many years. It was finally proven in all dimensions except the third by 1982. The Clay Mathematics Institute named it one of the seven most important outstanding problems in mathematics in 2000.'],\n",
       " 'contexts': [['Yau studied math at the Chinese University of Hong Kong, where he attracted the attention of Shiing-Shen Chern, the preëminent Chinese mathematician, who helped him win a scholarship to the University of California at Berkeley. Chern was the author of a famous theorem combining topology and geometry. He spent most of his career in the United States, at Berkeley. He made frequent visits to Hong Kong, Taiwan, and, later, China, where he was a revered symbol of Chinese intellectual achievement, to promote the study of math and science.',\n",
       "   'The following summer, Yau returned to China and, in a series of interviews with Chinese reporters, attacked Tian and the mathematicians at Peking University. In an article published in a Beijing science newspaper, which ran under the headline “\\nSHING-TUNG YAU IS SLAMMING ACADEMIC CORRUPTION IN CHINA',\n",
       "   'Yau was caught by surprise. In March, 2000, he had published a survey of recent research in his field studded with glowing references to Tian and to their joint projects. He retaliated by organizing his first conference on string theory, which opened in Beijing a few days before the math congress began, in late August, 2002. He persuaded Stephen Hawking and several Nobel laureates to attend, and for days the Chinese newspapers were full of pictures of famous scientists. Yau even managed to arrange for his group to have an audience with Jiang Zemin. A mathematician who helped organize the math congress recalls that along the highway between Beijing and the airport there were “billboards with pictures of Stephen Hawking plastered everywhere.”',\n",
       "   'Yau had since become a professor of mathematics at Harvard and the director of mathematics institutes in Beijing and Hong Kong, dividing his time between the United States and China. His lecture at the Friendship Hotel was part of an international conference on string theory, which he had organized with the support of the Chinese government, in part to promote the country’s recent advances in theoretical physics. (More than six thousand students attended the keynote address, which was delivered by Yau’s close friend Stephen Hawking, in the Great Hall of the People.) The subject of Yau’s talk was something that few in his audience knew much about: the Poincaré conjecture, a century-old conundrum about the characteristics of three-dimensional spheres, which, because it has important implications for mathematics and cosmology and because it has eluded all attempts at solution, is regarded by mathematicians as a holy grail.',\n",
       "   'When Yau was fourteen, his father died of kidney cancer, leaving his mother dependent on handouts from Christian missionaries and whatever small sums she earned from selling handicrafts. Until then, Yau had been an indifferent student. But he began to devote himself to schoolwork, tutoring other students in math to make money. “Part of the thing that drives Yau is that he sees his own life as being his father’s revenge,” said Dan Stroock, the M.I.T. mathematician, who has known Yau for twenty years. “Yau’s father was like the Talmudist whose children are starving.”'],\n",
       "  ['By the end of his first year at Berkeley, Perelman had written several strikingly original papers. He was asked to give a lecture at the 1994 I.M.U. congress, in Zurich, and invited to apply for jobs at Stanford, Princeton, the Institute for Advanced Study, and the University of Tel Aviv. Like Yau, Perelman was a formidable problem solver. Instead of spending years constructing an intricate theoretical framework, or defining new areas of research, he focussed on obtaining particular results. According to Mikhail Gromov, a renowned Russian geometer who has collaborated with Perelman, he had been trying to overcome a technical difficulty relating to Alexandrov spaces and had apparently been stumped. “He couldn’t do it,” Gromov said. “It was hopeless.”',\n",
       "   'At twenty-nine, Perelman was firmly established as a mathematician and yet largely unburdened by professional responsibilities. He was free to pursue whatever problems he wanted to, and he knew that his work, should he choose to publish it, would be shown serious consideration. Yakov Eliashberg, a mathematician at Stanford who knew Perelman at Berkeley, thinks that Perelman returned to Russia in order to work on the Poincaré. “Why not?” Perelman said when we asked whether Eliashberg’s hunch was correct.',\n",
       "   'Grigory Perelman is indeed reclusive. He left his job as a researcher at the Steklov Institute of Mathematics, in St. Petersburg, last December; he has few friends; and he lives with his mother in an apartment on the outskirts of the city. Although he had never granted an interview before, he was cordial and frank when we visited him, in late June, shortly after Yau’s conference in Beijing, taking us on a long walking tour of the city. “I’m looking for some friends, and they don’t have to be mathematicians,” he said. The week before the conference, Perelman had spent hours discussing the Poincaré conjecture with Sir John M. Ball, the fifty-eight-year-old president of the International Mathematical Union, the discipline’s influential professional association. The meeting, which took place at a conference center in a stately mansion overlooking the Neva River, was highly unusual. At the end of May, a committee of nine prominent mathematicians had voted to award Perelman a Fields Medal for his work on the Poincaré, and Ball had gone to St. Petersburg to persuade him to accept the prize in a public ceremony at the I.M.U.’s quadrennial congress, in Madrid, on August 22nd.',\n",
       "   'At the Steklov in the early nineties, Perelman became an expert on the geometry of Riemannian and Alexandrov spaces—extensions of traditional Euclidean geometry—and began to publish articles in the leading Russian and American mathematics journals. In 1992, Perelman was invited to spend a semester each at New York University and Stony Brook University. By the time he left for the United States, that fall, the Russian economy had collapsed. Dan Stroock, a mathematician at M.I.T., recalls smuggling wads of dollars into the country to deliver to a retired mathematician at the Steklov, who, like many of his colleagues, had become destitute.',\n",
       "   'We arranged to meet at ten the following morning on Nevsky Prospekt. From there, Perelman, dressed in a sports coat and loafers, took us on a four-hour walking tour of the city, commenting on every building and vista. After that, we all went to a vocal competition at the St. Petersburg Conservatory, which lasted for five hours. Perelman repeatedly said that he had retired from the mathematics community and no longer considered himself a professional mathematician. He mentioned a dispute that he had had years earlier with a collaborator over how to credit the author of a particular proof, and said that he was dismayed by the discipline’s lax ethics. “It is not people who break ethical standards who are regarded as aliens,” he said. “It is people like me who are isolated.” We asked him whether he had read Cao and Zhu’s paper. “It is not clear to me what new contribution did they make,” he said. “Apparently, Zhu did not quite understand the argument and reworked it.” As for Yau, Perelman said, “I can’t say I’m outraged. Other people do worse_._ Of course, there are many mathematicians who are more or less honest. But almost all of them are conformists. They are more or less honest, but they tolerate those who are not honest.”'],\n",
       "  ['Proofs of the Poincaré have been announced nearly every year since the conjecture was formulated, by Henri Poincaré, more than a hundred years ago. Poincaré was a cousin of Raymond Poincaré, the President of France during the First World War, and one of the most creative mathematicians of the nineteenth century. Slight, myopic, and notoriously absent-minded, he conceived his famous problem in 1904, eight years before he died, and tucked it as an offhand question into the end of a sixty-five-page paper.',\n",
       "   'By the nineteen-sixties, topology had become one of the most productive areas of mathematics, and young topologists were launching regular attacks on the Poincaré. To the astonishment of most mathematicians, it turned out that manifolds of the fourth, fifth, and higher dimensions were more tractable than those of the third dimension. By 1982, Poincaré’s conjecture had been proved in all dimensions except the third. In 2000, the Clay Mathematics Institute, a private foundation that promotes mathematical research, named the Poincaré one of the seven most important outstanding problems in mathematics and offered a million dollars to anyone who could prove it.',\n",
       "   '“My whole life as a mathematician has been dominated by the Poincaré conjecture,” John Morgan, the head of the mathematics department at Columbia University, said. “I never thought I’d see a solution. I thought nobody could touch it.”',\n",
       "   'Thurston proposed that every three-dimensional manifold could be broken down into one or more of eight types of component, including a spherical type. Thurston’s theory—which became known as the geometrization conjecture—describes all possible three-dimensional manifolds and is thus a powerful generalization of the Poincaré. If it was confirmed, then Poincaré’s conjecture would be, too. Proving Thurston and Poincaré “definitely swings open doors,” Barry Mazur, a mathematician at Harvard, said. The implications of the conjectures for other disciplines may not be apparent for years, but for mathematicians the problems are fundamental. “This is a kind of twentieth-century Pythagorean theorem,” Mazur added. “It changes the landscape.”',\n",
       "   'Yau, a stocky man of fifty-seven, stood at a lectern in shirtsleeves and black-rimmed glasses and, with his hands in his pockets, described how two of his students, Xi-Ping Zhu and Huai-Dong Cao, had completed a proof of the Poincaré conjecture a few weeks earlier. “I’m very positive about Zhu and Cao’s work,” Yau said. “Chinese mathematicians should have every reason to be proud of such a big success in completely solving the puzzle.” He said that Zhu and Cao were indebted to his longtime American collaborator Richard Hamilton, who deserved most of the credit for solving the Poincaré. He also mentioned Grigory Perelman, a Russian mathematician who, he acknowledged, had made an important contribution. Nevertheless, Yau said, “in Perelman’s work, spectacular as it is, many key ideas of the proofs are sketched or outlined, and complete details are often missing.” He added, “We would like to get Perelman to make comments. But Perelman resides in St. Petersburg and refuses to communicate with other people.”']],\n",
       " 'ground_truth': ['Yau is a Professor of mathematics at Harvard.',\n",
       "  'Perelman is a mathematician',\n",
       "  'century-old conundrum about the characteristics of three-dimensional spheres,']}"
      ]
     },
     "execution_count": 17,
     "metadata": {},
     "output_type": "execute_result"
    }
   ],
   "source": [
    "data"
   ]
  },
  {
   "cell_type": "code",
   "execution_count": 18,
   "id": "f0a9fe9d",
   "metadata": {},
   "outputs": [
    {
     "data": {
      "text/plain": [
       "Dataset({\n",
       "    features: ['question', 'answer', 'contexts', 'ground_truth'],\n",
       "    num_rows: 3\n",
       "})"
      ]
     },
     "execution_count": 18,
     "metadata": {},
     "output_type": "execute_result"
    }
   ],
   "source": [
    "dataset"
   ]
  },
  {
   "cell_type": "code",
   "execution_count": null,
   "id": "cf6b6b7a",
   "metadata": {},
   "outputs": [],
   "source": []
  },
  {
   "cell_type": "code",
   "execution_count": null,
   "id": "570f2045",
   "metadata": {},
   "outputs": [],
   "source": []
  },
  {
   "cell_type": "code",
   "execution_count": null,
   "id": "6966169f",
   "metadata": {},
   "outputs": [],
   "source": []
  },
  {
   "cell_type": "code",
   "execution_count": 19,
   "id": "8be51b3f",
   "metadata": {},
   "outputs": [
    {
     "name": "stdout",
     "output_type": "stream",
     "text": [
      "\u001b[33mWARNING: Skipping /home/anj/miniconda3/envs/hashalg/lib/python3.12/site-packages/jupyter-1.0.0.dist-info due to invalid metadata entry 'name'\u001b[0m\u001b[33m\n",
      "\u001b[0mRequirement already satisfied: ragas in /home/anj/miniconda3/envs/hashalg/lib/python3.12/site-packages (0.1.14)\n",
      "Requirement already satisfied: numpy in /home/anj/miniconda3/envs/hashalg/lib/python3.12/site-packages (from ragas) (1.26.4)\n",
      "Requirement already satisfied: datasets in /home/anj/miniconda3/envs/hashalg/lib/python3.12/site-packages (from ragas) (2.21.0)\n",
      "Requirement already satisfied: tiktoken in /home/anj/miniconda3/envs/hashalg/lib/python3.12/site-packages (from ragas) (0.7.0)\n",
      "Requirement already satisfied: langchain in /home/anj/miniconda3/envs/hashalg/lib/python3.12/site-packages (from ragas) (0.2.6)\n",
      "Requirement already satisfied: langchain-core in /home/anj/miniconda3/envs/hashalg/lib/python3.12/site-packages (from ragas) (0.2.10)\n",
      "Requirement already satisfied: langchain-community in /home/anj/miniconda3/envs/hashalg/lib/python3.12/site-packages (from ragas) (0.2.6)\n",
      "Requirement already satisfied: langchain-openai in /home/anj/miniconda3/envs/hashalg/lib/python3.12/site-packages (from ragas) (0.1.10)\n",
      "Requirement already satisfied: openai>1 in /home/anj/miniconda3/envs/hashalg/lib/python3.12/site-packages (from ragas) (1.35.5)\n",
      "Requirement already satisfied: pysbd>=0.3.4 in /home/anj/miniconda3/envs/hashalg/lib/python3.12/site-packages (from ragas) (0.3.4)\n",
      "Requirement already satisfied: nest-asyncio in /home/anj/miniconda3/envs/hashalg/lib/python3.12/site-packages (from ragas) (1.6.0)\n",
      "Requirement already satisfied: appdirs in /home/anj/miniconda3/envs/hashalg/lib/python3.12/site-packages (from ragas) (1.4.4)\n",
      "Requirement already satisfied: anyio<5,>=3.5.0 in /home/anj/miniconda3/envs/hashalg/lib/python3.12/site-packages (from openai>1->ragas) (4.4.0)\n",
      "Requirement already satisfied: distro<2,>=1.7.0 in /home/anj/miniconda3/envs/hashalg/lib/python3.12/site-packages (from openai>1->ragas) (1.9.0)\n",
      "Requirement already satisfied: httpx<1,>=0.23.0 in /home/anj/miniconda3/envs/hashalg/lib/python3.12/site-packages (from openai>1->ragas) (0.27.0)\n",
      "Requirement already satisfied: pydantic<3,>=1.9.0 in /home/anj/miniconda3/envs/hashalg/lib/python3.12/site-packages (from openai>1->ragas) (2.7.4)\n",
      "Requirement already satisfied: sniffio in /home/anj/miniconda3/envs/hashalg/lib/python3.12/site-packages (from openai>1->ragas) (1.3.1)\n",
      "Requirement already satisfied: tqdm>4 in /home/anj/miniconda3/envs/hashalg/lib/python3.12/site-packages (from openai>1->ragas) (4.66.4)\n",
      "Requirement already satisfied: typing-extensions<5,>=4.7 in /home/anj/miniconda3/envs/hashalg/lib/python3.12/site-packages (from openai>1->ragas) (4.12.2)\n",
      "Requirement already satisfied: filelock in /home/anj/miniconda3/envs/hashalg/lib/python3.12/site-packages (from datasets->ragas) (3.15.4)\n",
      "Requirement already satisfied: pyarrow>=15.0.0 in /home/anj/miniconda3/envs/hashalg/lib/python3.12/site-packages (from datasets->ragas) (17.0.0)\n",
      "Requirement already satisfied: dill<0.3.9,>=0.3.0 in /home/anj/miniconda3/envs/hashalg/lib/python3.12/site-packages (from datasets->ragas) (0.3.8)\n",
      "Requirement already satisfied: pandas in /home/anj/miniconda3/envs/hashalg/lib/python3.12/site-packages (from datasets->ragas) (2.2.2)\n",
      "Requirement already satisfied: requests>=2.32.2 in /home/anj/miniconda3/envs/hashalg/lib/python3.12/site-packages (from datasets->ragas) (2.32.3)\n",
      "Requirement already satisfied: xxhash in /home/anj/miniconda3/envs/hashalg/lib/python3.12/site-packages (from datasets->ragas) (3.4.1)\n",
      "Requirement already satisfied: multiprocess in /home/anj/miniconda3/envs/hashalg/lib/python3.12/site-packages (from datasets->ragas) (0.70.16)\n",
      "Requirement already satisfied: fsspec<=2024.6.1,>=2023.1.0 in /home/anj/miniconda3/envs/hashalg/lib/python3.12/site-packages (from fsspec[http]<=2024.6.1,>=2023.1.0->datasets->ragas) (2024.6.0)\n",
      "Requirement already satisfied: aiohttp in /home/anj/miniconda3/envs/hashalg/lib/python3.12/site-packages (from datasets->ragas) (3.9.5)\n",
      "Requirement already satisfied: huggingface-hub>=0.21.2 in /home/anj/miniconda3/envs/hashalg/lib/python3.12/site-packages (from datasets->ragas) (0.23.4)\n",
      "Requirement already satisfied: packaging in /home/anj/miniconda3/envs/hashalg/lib/python3.12/site-packages (from datasets->ragas) (24.1)\n",
      "Requirement already satisfied: pyyaml>=5.1 in /home/anj/miniconda3/envs/hashalg/lib/python3.12/site-packages (from datasets->ragas) (6.0.1)\n",
      "Requirement already satisfied: SQLAlchemy<3,>=1.4 in /home/anj/miniconda3/envs/hashalg/lib/python3.12/site-packages (from langchain->ragas) (2.0.31)\n",
      "Requirement already satisfied: langchain-text-splitters<0.3.0,>=0.2.0 in /home/anj/miniconda3/envs/hashalg/lib/python3.12/site-packages (from langchain->ragas) (0.2.2)\n",
      "Requirement already satisfied: langsmith<0.2.0,>=0.1.17 in /home/anj/miniconda3/envs/hashalg/lib/python3.12/site-packages (from langchain->ragas) (0.1.82)\n",
      "Requirement already satisfied: tenacity!=8.4.0,<9.0.0,>=8.1.0 in /home/anj/miniconda3/envs/hashalg/lib/python3.12/site-packages (from langchain->ragas) (8.4.2)\n",
      "Requirement already satisfied: jsonpatch<2.0,>=1.33 in /home/anj/miniconda3/envs/hashalg/lib/python3.12/site-packages (from langchain-core->ragas) (1.33)\n",
      "Requirement already satisfied: dataclasses-json<0.7,>=0.5.7 in /home/anj/miniconda3/envs/hashalg/lib/python3.12/site-packages (from langchain-community->ragas) (0.6.7)\n",
      "Requirement already satisfied: regex>=2022.1.18 in /home/anj/miniconda3/envs/hashalg/lib/python3.12/site-packages (from tiktoken->ragas) (2024.5.15)\n",
      "Requirement already satisfied: aiosignal>=1.1.2 in /home/anj/miniconda3/envs/hashalg/lib/python3.12/site-packages (from aiohttp->datasets->ragas) (1.3.1)\n",
      "Requirement already satisfied: attrs>=17.3.0 in /home/anj/miniconda3/envs/hashalg/lib/python3.12/site-packages (from aiohttp->datasets->ragas) (23.2.0)\n",
      "Requirement already satisfied: frozenlist>=1.1.1 in /home/anj/miniconda3/envs/hashalg/lib/python3.12/site-packages (from aiohttp->datasets->ragas) (1.4.1)\n",
      "Requirement already satisfied: multidict<7.0,>=4.5 in /home/anj/miniconda3/envs/hashalg/lib/python3.12/site-packages (from aiohttp->datasets->ragas) (6.0.5)\n",
      "Requirement already satisfied: yarl<2.0,>=1.0 in /home/anj/miniconda3/envs/hashalg/lib/python3.12/site-packages (from aiohttp->datasets->ragas) (1.9.4)\n",
      "Requirement already satisfied: idna>=2.8 in /home/anj/miniconda3/envs/hashalg/lib/python3.12/site-packages (from anyio<5,>=3.5.0->openai>1->ragas) (3.7)\n",
      "Requirement already satisfied: marshmallow<4.0.0,>=3.18.0 in /home/anj/miniconda3/envs/hashalg/lib/python3.12/site-packages (from dataclasses-json<0.7,>=0.5.7->langchain-community->ragas) (3.21.3)\n",
      "Requirement already satisfied: typing-inspect<1,>=0.4.0 in /home/anj/miniconda3/envs/hashalg/lib/python3.12/site-packages (from dataclasses-json<0.7,>=0.5.7->langchain-community->ragas) (0.9.0)\n",
      "Requirement already satisfied: certifi in /home/anj/miniconda3/envs/hashalg/lib/python3.12/site-packages (from httpx<1,>=0.23.0->openai>1->ragas) (2024.7.4)\n",
      "Requirement already satisfied: httpcore==1.* in /home/anj/miniconda3/envs/hashalg/lib/python3.12/site-packages (from httpx<1,>=0.23.0->openai>1->ragas) (1.0.5)\n",
      "Requirement already satisfied: h11<0.15,>=0.13 in /home/anj/miniconda3/envs/hashalg/lib/python3.12/site-packages (from httpcore==1.*->httpx<1,>=0.23.0->openai>1->ragas) (0.14.0)\n",
      "Requirement already satisfied: jsonpointer>=1.9 in /home/anj/miniconda3/envs/hashalg/lib/python3.12/site-packages (from jsonpatch<2.0,>=1.33->langchain-core->ragas) (3.0.0)\n",
      "Requirement already satisfied: orjson<4.0.0,>=3.9.14 in /home/anj/miniconda3/envs/hashalg/lib/python3.12/site-packages (from langsmith<0.2.0,>=0.1.17->langchain->ragas) (3.10.5)\n",
      "Requirement already satisfied: annotated-types>=0.4.0 in /home/anj/miniconda3/envs/hashalg/lib/python3.12/site-packages (from pydantic<3,>=1.9.0->openai>1->ragas) (0.7.0)\n",
      "Requirement already satisfied: pydantic-core==2.18.4 in /home/anj/miniconda3/envs/hashalg/lib/python3.12/site-packages (from pydantic<3,>=1.9.0->openai>1->ragas) (2.18.4)\n",
      "Requirement already satisfied: charset-normalizer<4,>=2 in /home/anj/miniconda3/envs/hashalg/lib/python3.12/site-packages (from requests>=2.32.2->datasets->ragas) (3.3.2)\n",
      "Requirement already satisfied: urllib3<3,>=1.21.1 in /home/anj/miniconda3/envs/hashalg/lib/python3.12/site-packages (from requests>=2.32.2->datasets->ragas) (2.2.2)\n",
      "Requirement already satisfied: greenlet!=0.4.17 in /home/anj/miniconda3/envs/hashalg/lib/python3.12/site-packages (from SQLAlchemy<3,>=1.4->langchain->ragas) (3.0.3)\n",
      "Requirement already satisfied: python-dateutil>=2.8.2 in /home/anj/miniconda3/envs/hashalg/lib/python3.12/site-packages (from pandas->datasets->ragas) (2.9.0)\n",
      "Requirement already satisfied: pytz>=2020.1 in /home/anj/miniconda3/envs/hashalg/lib/python3.12/site-packages (from pandas->datasets->ragas) (2024.1)\n",
      "Requirement already satisfied: tzdata>=2022.7 in /home/anj/miniconda3/envs/hashalg/lib/python3.12/site-packages (from pandas->datasets->ragas) (2024.1)\n",
      "Requirement already satisfied: six>=1.5 in /home/anj/miniconda3/envs/hashalg/lib/python3.12/site-packages (from python-dateutil>=2.8.2->pandas->datasets->ragas) (1.16.0)\n",
      "Requirement already satisfied: mypy-extensions>=0.3.0 in /home/anj/miniconda3/envs/hashalg/lib/python3.12/site-packages (from typing-inspect<1,>=0.4.0->dataclasses-json<0.7,>=0.5.7->langchain-community->ragas) (1.0.0)\n",
      "\u001b[33mWARNING: Skipping /home/anj/miniconda3/envs/hashalg/lib/python3.12/site-packages/jupyter-1.0.0.dist-info due to invalid metadata entry 'name'\u001b[0m\u001b[33m\n",
      "\u001b[0m\u001b[33mWARNING: Skipping /home/anj/miniconda3/envs/hashalg/lib/python3.12/site-packages/jupyter-1.0.0.dist-info due to invalid metadata entry 'name'\u001b[0m\u001b[33m\n",
      "\u001b[0m\u001b[33mWARNING: Skipping /home/anj/miniconda3/envs/hashalg/lib/python3.12/site-packages/jupyter-1.0.0.dist-info due to invalid metadata entry 'name'\u001b[0m\u001b[33m\n",
      "\u001b[0mNote: you may need to restart the kernel to use updated packages.\n"
     ]
    }
   ],
   "source": [
    "pip install ragas"
   ]
  },
  {
   "cell_type": "code",
   "execution_count": 20,
   "id": "fc843e3b",
   "metadata": {},
   "outputs": [
    {
     "name": "stderr",
     "output_type": "stream",
     "text": [
      "Evaluating: 100%|██████████████████████████████████████████████████████████████████████████████████████████| 12/12 [00:11<00:00,  1.03it/s]\n"
     ]
    }
   ],
   "source": [
    "from ragas import evaluate \n",
    "from ragas.metrics import (\n",
    "    faithfulness,\n",
    "    answer_relevancy,\n",
    "    context_recall,\n",
    "    context_precision\n",
    ")\n",
    "\n",
    "results = evaluate(\n",
    "     dataset = dataset,\n",
    "    metrics = [\n",
    "        context_precision,\n",
    "        context_recall,\n",
    "        faithfulness,\n",
    "        answer_relevancy\n",
    "    ]\n",
    "    #llm = \n",
    ")"
   ]
  },
  {
   "cell_type": "code",
   "execution_count": 21,
   "id": "0e4224db",
   "metadata": {},
   "outputs": [
    {
     "data": {
      "text/plain": [
       "{'context_precision': 0.5278, 'context_recall': 1.0000, 'faithfulness': 1.0000, 'answer_relevancy': 0.9107}"
      ]
     },
     "execution_count": 21,
     "metadata": {},
     "output_type": "execute_result"
    }
   ],
   "source": [
    "results"
   ]
  },
  {
   "cell_type": "code",
   "execution_count": 22,
   "id": "81506db3-17d7-4a20-b129-04c1986991c3",
   "metadata": {},
   "outputs": [
    {
     "data": {
      "text/html": [
       "<div>\n",
       "<style scoped>\n",
       "    .dataframe tbody tr th:only-of-type {\n",
       "        vertical-align: middle;\n",
       "    }\n",
       "\n",
       "    .dataframe tbody tr th {\n",
       "        vertical-align: top;\n",
       "    }\n",
       "\n",
       "    .dataframe thead th {\n",
       "        text-align: right;\n",
       "    }\n",
       "</style>\n",
       "<table border=\"1\" class=\"dataframe\">\n",
       "  <thead>\n",
       "    <tr style=\"text-align: right;\">\n",
       "      <th></th>\n",
       "      <th>question</th>\n",
       "      <th>answer</th>\n",
       "      <th>contexts</th>\n",
       "      <th>ground_truth</th>\n",
       "      <th>context_precision</th>\n",
       "      <th>context_recall</th>\n",
       "      <th>faithfulness</th>\n",
       "      <th>answer_relevancy</th>\n",
       "    </tr>\n",
       "  </thead>\n",
       "  <tbody>\n",
       "    <tr>\n",
       "      <th>0</th>\n",
       "      <td>What university did Yau work at?</td>\n",
       "      <td>Yau worked as a professor of mathematics at Ha...</td>\n",
       "      <td>[Yau studied math at the Chinese University of...</td>\n",
       "      <td>Yau is a Professor of mathematics at Harvard.</td>\n",
       "      <td>0.250000</td>\n",
       "      <td>1.0</td>\n",
       "      <td>1.0</td>\n",
       "      <td>0.921329</td>\n",
       "    </tr>\n",
       "    <tr>\n",
       "      <th>1</th>\n",
       "      <td>Who is Perelman?</td>\n",
       "      <td>Perelman is a mathematician known for his work...</td>\n",
       "      <td>[By the end of his first year at Berkeley, Per...</td>\n",
       "      <td>Perelman is a mathematician</td>\n",
       "      <td>1.000000</td>\n",
       "      <td>1.0</td>\n",
       "      <td>1.0</td>\n",
       "      <td>0.885040</td>\n",
       "    </tr>\n",
       "    <tr>\n",
       "      <th>2</th>\n",
       "      <td>What is Poincare conjecture?</td>\n",
       "      <td>The Poincaré conjecture was proposed by Henri ...</td>\n",
       "      <td>[Proofs of the Poincaré have been announced ne...</td>\n",
       "      <td>century-old conundrum about the characteristic...</td>\n",
       "      <td>0.333333</td>\n",
       "      <td>1.0</td>\n",
       "      <td>1.0</td>\n",
       "      <td>0.925673</td>\n",
       "    </tr>\n",
       "  </tbody>\n",
       "</table>\n",
       "</div>"
      ],
      "text/plain": [
       "                           question  \\\n",
       "0  What university did Yau work at?   \n",
       "1                  Who is Perelman?   \n",
       "2      What is Poincare conjecture?   \n",
       "\n",
       "                                              answer  \\\n",
       "0  Yau worked as a professor of mathematics at Ha...   \n",
       "1  Perelman is a mathematician known for his work...   \n",
       "2  The Poincaré conjecture was proposed by Henri ...   \n",
       "\n",
       "                                            contexts  \\\n",
       "0  [Yau studied math at the Chinese University of...   \n",
       "1  [By the end of his first year at Berkeley, Per...   \n",
       "2  [Proofs of the Poincaré have been announced ne...   \n",
       "\n",
       "                                        ground_truth  context_precision  \\\n",
       "0      Yau is a Professor of mathematics at Harvard.           0.250000   \n",
       "1                        Perelman is a mathematician           1.000000   \n",
       "2  century-old conundrum about the characteristic...           0.333333   \n",
       "\n",
       "   context_recall  faithfulness  answer_relevancy  \n",
       "0             1.0           1.0          0.921329  \n",
       "1             1.0           1.0          0.885040  \n",
       "2             1.0           1.0          0.925673  "
      ]
     },
     "execution_count": 22,
     "metadata": {},
     "output_type": "execute_result"
    }
   ],
   "source": [
    "results.to_pandas()"
   ]
  }
 ],
 "metadata": {
  "kernelspec": {
   "display_name": "Python 3 (ipykernel)",
   "language": "python",
   "name": "python3"
  },
  "language_info": {
   "codemirror_mode": {
    "name": "ipython",
    "version": 3
   },
   "file_extension": ".py",
   "mimetype": "text/x-python",
   "name": "python",
   "nbconvert_exporter": "python",
   "pygments_lexer": "ipython3",
   "version": "3.12.4"
  }
 },
 "nbformat": 4,
 "nbformat_minor": 5
}
